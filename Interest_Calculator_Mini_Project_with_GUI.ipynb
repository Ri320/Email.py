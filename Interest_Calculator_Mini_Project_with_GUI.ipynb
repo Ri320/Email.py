{
  "nbformat": 4,
  "nbformat_minor": 0,
  "metadata": {
    "colab": {
      "provenance": []
    },
    "kernelspec": {
      "name": "python3",
      "display_name": "Python 3"
    },
    "language_info": {
      "name": "python"
    }
  },
  "cells": [
    {
      "cell_type": "code",
      "execution_count": null,
      "metadata": {
        "id": "KrzwRqxe6iZp"
      },
      "outputs": [],
      "source": [
        "from tkinter import *\n",
        "\n",
        "root=Tk()\n",
        "root.title(\"Simple interest Calculator\")\n",
        "root.geometry(\"500x300\")\n",
        "def Calculate():\n",
        "    prin=int(principalentry.get())\n",
        "    rat=int(rateentry.get())\n",
        "    tim=int(timeentry.get())\n",
        "    amount=(prin*rat*tim)/100\n",
        "    Label(text=f\"{amount}\",font=\"arial 30 bold\").place(x=200,y=220)\n",
        "principal=Label(root,text=\"Principal:\",font=\"arial 15\")\n",
        "rate=Label(root,text=\"Rate of Interest\",font=\"arial 15\")\n",
        "time=Label(root,text=\"Time:\",font=\"arial 15\")\n",
        "\n",
        "principal.place(x=50,y=20)\n",
        "rate.place(x=50,y=90)\n",
        "time.place(x=50,y=160)\n",
        "\n",
        "interest=Label(root,text=\"Interest:\",font=\"arial 15\")\n",
        "interest.place(x=50,y=230)\n",
        "\n",
        "principalvalue=StringVar()\n",
        "ratevalue=StringVar()\n",
        "timevalue=StringVar()\n",
        "\n",
        "principalentry=Entry(root,textvariable=principalvalue,font=\"arial 20\",width=8)\n",
        "rateentry=Entry(root,textvariable=ratevalue,font=\"arial 20\",width=8)\n",
        "timeentry=Entry(root,textvariable=timevalue,font=\"arial 20\",width=8)\n",
        "\n",
        "principalentry.place(x=200,y=20)\n",
        "rateentry.place(x=200,y=90)\n",
        "timeentry.place(x=200,y=160)\n",
        "\n",
        "Button(text=\"Calculate\",font=\"arial 15\",command=Calculate).place(x=350,y=20)\n",
        "Button(root,text=\"Exit\",command=lambda:exit(),font=\"arial 15\",width=8).place(x=350,y=90)\n",
        "\n",
        "root.mainloop()"
      ]
    },
    {
      "cell_type": "code",
      "source": [],
      "metadata": {
        "id": "m5gcicVb6jWo"
      },
      "execution_count": null,
      "outputs": []
    }
  ]
}