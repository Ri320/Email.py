{
  "nbformat": 4,
  "nbformat_minor": 0,
  "metadata": {
    "colab": {
      "provenance": []
    },
    "kernelspec": {
      "name": "python3",
      "display_name": "Python 3"
    },
    "language_info": {
      "name": "python"
    }
  },
  "cells": [
    {
      "cell_type": "code",
      "execution_count": null,
      "metadata": {
        "id": "CHmcxN8KEIKD"
      },
      "outputs": [],
      "source": [
        "from tkinter import *\n",
        "import pyttsx3\n",
        "\n",
        "engine = pyttsx3.init()\n",
        "win = Tk()\n",
        "win.title(\"write and listen\")\n",
        "win.configure(bg=\"Blue\")\n",
        "win.geometry(\"420x200\")\n",
        "def speak():\n",
        "    engine.say(text.get())\n",
        "    engine.runAndWait()\n",
        "    engine.stop()\n",
        "lf = LabelFrame(win,text=\"Text to Speech\",font=\"30\",bd=5,bg=\"light blue\")\n",
        "lf.pack(fill=\"both\",expand=\"yes\",padx=10,pady=10)\n",
        "Label(lf,text=\"Text\",font=\"30\",padx=15).pack(side=LEFT)\n",
        "text = StringVar()\n",
        "Entry(lf,width=25,bd=5,font=\"20\",textvariable=text).pack(side=LEFT,padx=10)\n",
        "\n",
        "Button(lf,text=\"Speech\",font=15,command=speak).pack(side=LEFT)\n",
        "mainloop()"
      ]
    }
  ]
}