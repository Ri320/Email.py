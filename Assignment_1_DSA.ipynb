{
  "nbformat": 4,
  "nbformat_minor": 0,
  "metadata": {
    "colab": {
      "provenance": []
    },
    "kernelspec": {
      "name": "python3",
      "display_name": "Python 3"
    },
    "language_info": {
      "name": "python"
    }
  },
  "cells": [
    {
      "cell_type": "markdown",
      "source": [
        "**Assignment 1 for DSA**"
      ],
      "metadata": {
        "id": "AMPsGNg4jltv"
      }
    },
    {
      "cell_type": "markdown",
      "source": [
        "**Student name=> Ritik jwala**"
      ],
      "metadata": {
        "id": "kuBhhwFva_2U"
      }
    },
    {
      "cell_type": "markdown",
      "source": [
        "Q number [1]"
      ],
      "metadata": {
        "id": "05SwPQWVx_6a"
      }
    },
    {
      "cell_type": "code",
      "source": [
        "def findPair(nums, target):\n",
        "    nums.sort()\n",
        "    (low, high) = (0, len(nums) - 1)\n",
        " \n",
        "    while low < high:\n",
        " \n",
        "        if nums[low] + nums[high] == target:        \n",
        "            print('Pair found', (nums[low], nums[high]))\n",
        "            return\n",
        "        if nums[low] + nums[high] < target:\n",
        "            low = low + 1\n",
        "        else:\n",
        "            high = high - 1\n",
        " \n",
        "    print('Pair not found')\n",
        " \n",
        " \n",
        "if __name__ == '__main__':\n",
        " \n",
        "    nums = [8, 7, 2, 5, 3, 1]\n",
        "    target = 10\n",
        " \n",
        "    findPair(nums, target)\n"
      ],
      "metadata": {
        "colab": {
          "base_uri": "https://localhost:8080/"
        },
        "id": "xpLoRjvpjYUw",
        "outputId": "b25aeeac-237e-415f-9a21-93a25a804d9c"
      },
      "execution_count": null,
      "outputs": [
        {
          "output_type": "stream",
          "name": "stdout",
          "text": [
            "Pair found (2, 8)\n"
          ]
        }
      ]
    },
    {
      "cell_type": "markdown",
      "source": [
        "Q number [2]"
      ],
      "metadata": {
        "id": "AB3D1UrJyINL"
      }
    },
    {
      "cell_type": "code",
      "source": [
        "def reverseList(A, start, end):\n",
        "    while start < end:\n",
        "        A[start], A[end] = A[end], A[start]\n",
        "        start += 1\n",
        "        end -= 1\n",
        " \n",
        "A = [1, 2, 3, 4, 5, 6]\n",
        "print(A)\n",
        "reverseList(A, 0, 5)\n",
        "print(\"Reversed list is\")\n",
        "print(A)"
      ],
      "metadata": {
        "colab": {
          "base_uri": "https://localhost:8080/"
        },
        "id": "RAVcr1HxjYXP",
        "outputId": "53a5a4b4-fd90-4739-c612-4de83ea8f6f5"
      },
      "execution_count": null,
      "outputs": [
        {
          "output_type": "stream",
          "name": "stdout",
          "text": [
            "[1, 2, 3, 4, 5, 6]\n",
            "Reversed list is\n",
            "[6, 5, 4, 3, 2, 1]\n"
          ]
        }
      ]
    },
    {
      "cell_type": "markdown",
      "source": [
        "Q number [3]"
      ],
      "metadata": {
        "id": "xpxOjeL7yN_w"
      }
    },
    {
      "cell_type": "code",
      "source": [
        "def checkString(s1, s2, indexFound, Size):\n",
        "    for i in range(Size):\n",
        " \n",
        "        if(s1[i] != s2[(indexFound + i) % Size]):\n",
        "            return False\n",
        " \n",
        "    return True\n",
        " \n",
        "s1 = \"abcd\"\n",
        "s2 = \"cdab\"\n",
        " \n",
        "if(len(s1) != len(s2)):\n",
        "    print(\"s2 is not a rotation on s1\")\n",
        "else:\n",
        "\n",
        "    indexes = []  \n",
        "    Size = len(s1)\n",
        "    firstChar = s1[0]\n",
        "    for i in range(Size):\n",
        "        if(s2[i] == firstChar):\n",
        "            indexes.append(i)\n",
        " \n",
        "    isRotation = False\n",
        " \n",
        "    for idx in indexes:\n",
        " \n",
        "        isRotation = checkString(s1, s2, idx, Size)\n",
        " \n",
        "        if(isRotation):\n",
        "            break\n",
        " \n",
        "    if(isRotation):\n",
        "        print(\"Strings are rotations of each other\")\n",
        "    else:\n",
        "        print(\"Strings are not rotations of each other\")\n",
        " "
      ],
      "metadata": {
        "colab": {
          "base_uri": "https://localhost:8080/"
        },
        "id": "CjyOpfDRjYZY",
        "outputId": "5141d3d1-097b-428b-cefc-6b45e899bb4e"
      },
      "execution_count": null,
      "outputs": [
        {
          "output_type": "stream",
          "name": "stdout",
          "text": [
            "Strings are rotations of each other\n"
          ]
        }
      ]
    },
    {
      "cell_type": "markdown",
      "source": [
        "Q number [4]"
      ],
      "metadata": {
        "id": "4NdJI13zyTsg"
      }
    },
    {
      "cell_type": "code",
      "source": [
        "string = \"Isit college\"\n",
        "index = -1\n",
        "fnc = \"\"\n",
        "for i in string:\n",
        "    if string.count(i) == 1:\n",
        "        fnc += i\n",
        "        break\n",
        "    else:\n",
        "        index += 1\n",
        "if index == 1:\n",
        "    print(\"Either all characters are repeating or string is empty\")\n",
        "else:\n",
        "    print(\"First non-repeating character is\", fnc)"
      ],
      "metadata": {
        "colab": {
          "base_uri": "https://localhost:8080/"
        },
        "id": "ATWKxfLzoFfg",
        "outputId": "c97caf12-8fc8-41fa-ac58-b4936614cbe1"
      },
      "execution_count": null,
      "outputs": [
        {
          "output_type": "stream",
          "name": "stdout",
          "text": [
            "First non-repeating character is I\n"
          ]
        }
      ]
    },
    {
      "cell_type": "markdown",
      "source": [
        "Q number [5]"
      ],
      "metadata": {
        "id": "fianFWfKywJI"
      }
    },
    {
      "cell_type": "code",
      "source": [
        "def TowerOfHanoi(n, from_rod, to_rod, aux_rod):\n",
        "    if n == 0:\n",
        "        return\n",
        "    TowerOfHanoi(n-1, from_rod, aux_rod, to_rod)\n",
        "    print(\"Move disk\", n, \"from rod\", from_rod, \"to rod\", to_rod)\n",
        "    TowerOfHanoi(n-1, aux_rod, to_rod, from_rod)\n",
        " \n",
        "N = 3\n",
        " \n",
        "TowerOfHanoi(N, 'A', 'C', 'B')\n"
      ],
      "metadata": {
        "colab": {
          "base_uri": "https://localhost:8080/"
        },
        "id": "e35Dg0CVqOfQ",
        "outputId": "68ea97df-c1ec-4ab1-d80f-30d4b69eb4e4"
      },
      "execution_count": null,
      "outputs": [
        {
          "output_type": "stream",
          "name": "stdout",
          "text": [
            "Move disk 1 from rod A to rod C\n",
            "Move disk 2 from rod A to rod B\n",
            "Move disk 1 from rod C to rod B\n",
            "Move disk 3 from rod A to rod C\n",
            "Move disk 1 from rod B to rod A\n",
            "Move disk 2 from rod B to rod C\n",
            "Move disk 1 from rod A to rod C\n"
          ]
        }
      ]
    },
    {
      "cell_type": "markdown",
      "source": [
        "Q munber [6]"
      ],
      "metadata": {
        "id": "hkICWgdqyzwv"
      }
    },
    {
      "cell_type": "code",
      "source": [
        "def isOperator(x):\n",
        " \n",
        "    if x == \"+\":\n",
        "        return True\n",
        " \n",
        "    if x == \"-\":\n",
        "        return True\n",
        " \n",
        "    if x == \"/\":\n",
        "        return True\n",
        " \n",
        "    if x == \"*\":\n",
        "        return True\n",
        " \n",
        "    return False\n",
        " \n",
        "def postToPre(post_exp):\n",
        " \n",
        "    s = []\n",
        " \n",
        "    length = len(post_exp)\n",
        " \n",
        "    for i in range(length):\n",
        "        if (isOperator(post_exp[i])):\n",
        " \n",
        "            op1 = s[-1]\n",
        "            s.pop()\n",
        "            op2 = s[-1]\n",
        "            s.pop()\n",
        "\n",
        "            temp = post_exp[i] + op2 + op1\n",
        "\n",
        "            s.append(temp)\n",
        " \n",
        "        else:\n",
        " \n",
        "            \n",
        "            s.append(post_exp[i])\n",
        " \n",
        "    \n",
        "    ans = \"\"\n",
        "    for i in s:\n",
        "        ans += i\n",
        "    return ans\n",
        " \n",
        " \n",
        "if __name__ == \"__main__\":\n",
        " \n",
        "    post_exp = \"AB+CD-\"\n",
        "     \n",
        "    print(\"Prefix : \", postToPre(post_exp))\n",
        " \n"
      ],
      "metadata": {
        "id": "lzWCLFfqoFsi"
      },
      "execution_count": null,
      "outputs": []
    },
    {
      "cell_type": "markdown",
      "source": [
        "Q munber [7]"
      ],
      "metadata": {
        "id": "4hOv94YNzOyG"
      }
    },
    {
      "cell_type": "code",
      "source": [
        "def prefixToInfix(prefix):\n",
        "    stack = []\n",
        "     \n",
        "    i = len(prefix) - 1\n",
        "    while i >= 0:\n",
        "        if not isOperator(prefix[i]):\n",
        "             \n",
        "            stack.append(prefix[i])\n",
        "            i -= 1\n",
        "        else:\n",
        "           \n",
        "            str = \"(\" + stack.pop() + prefix[i] + stack.pop() + \")\"\n",
        "            stack.append(str)\n",
        "            i -= 1\n",
        "     \n",
        "    return stack.pop()\n",
        " \n",
        "def isOperator(c):\n",
        "    if c == \"*\" or c == \"+\" or c == \"-\" or c == \"/\" or c == \"^\" or c == \"(\" or c == \")\":\n",
        "        return True\n",
        "    else:\n",
        "        return False\n",
        " \n",
        "\n",
        "if __name__==\"__main__\":\n",
        "    str = \"*-A/BC-/AKL\"\n",
        "    print(prefixToInfix(str))\n"
      ],
      "metadata": {
        "id": "KrQR2C9toFvW"
      },
      "execution_count": null,
      "outputs": []
    },
    {
      "cell_type": "markdown",
      "source": [
        "Q munber [8]"
      ],
      "metadata": {
        "id": "1A4ms7BFzbPN"
      }
    },
    {
      "cell_type": "code",
      "source": [
        "def areBracketsBalanced(expr):\n",
        "    stack = []\n",
        "\n",
        "    for char in expr:\n",
        "        if char in [\"(\", \"{\", \"[\"]:\n",
        " \n",
        "            stack.append(char)\n",
        "        else:\n",
        "\n",
        "            if not stack:\n",
        "                return False\n",
        "            current_char = stack.pop()\n",
        "            if current_char == '(':\n",
        "                if char != \")\":\n",
        "                    return False\n",
        "            if current_char == '{':\n",
        "                if char != \"}\":\n",
        "                    return False\n",
        "            if current_char == '[':\n",
        "                if char != \"]\":\n",
        "                    return False\n",
        " \n",
        "\n",
        "    if stack:\n",
        "        return False\n",
        "    return True\n",
        " \n",
        " \n",
        "\n",
        "if __name__ == \"__main__\":\n",
        "    expr = \"{()}[]\"\n",
        " \n",
        "    \n",
        "    if areBracketsBalanced(expr):\n",
        "        print(\"Balanced\")\n",
        "    else:\n",
        "        print(\"Not Balanced\""
      ],
      "metadata": {
        "id": "4f5gKOMkoFyb"
      },
      "execution_count": null,
      "outputs": []
    },
    {
      "cell_type": "markdown",
      "source": [
        "Q number[9]"
      ],
      "metadata": {
        "id": "Pw6-iidMbS8L"
      }
    },
    {
      "cell_type": "code",
      "source": [
        "class Stack:\n",
        " \n",
        "    \n",
        "    def __init__(self):\n",
        "        self.Elements = []\n",
        "         \n",
        "  \n",
        "    def push(self, value):\n",
        "        self.Elements.append(value)\n",
        "       \n",
        "    \n",
        "    def pop(self):\n",
        "        return self.Elements.pop()\n",
        "     \n",
        "    def empty(self):\n",
        "        return self.Elements == []\n",
        "     \n",
        "    def show(self):\n",
        "        for value in reversed(self.Elements):\n",
        "            print(value)\n",
        " \n",
        "\n",
        "def BottomInsert(s, value):\n",
        "   \n",
        "\n",
        "    if s.empty():\n",
        "         \n",
        "\n",
        "        s.push(value)\n",
        "         \n",
        "\n",
        "    else:\n",
        "        popped = s.pop()\n",
        "        BottomInsert(s, value)\n",
        "        s.push(popped)\n",
        " \n",
        "def Reverse(s):\n",
        "    if s.empty():\n",
        "        pass\n",
        "    else:\n",
        "        popped = s.pop()\n",
        "        Reverse(s)\n",
        "        BottomInsert(s, popped)\n",
        " \n",
        " \n",
        "stk = Stack()\n",
        " \n",
        "stk.push(1)\n",
        "stk.push(2)\n",
        "stk.push(3)\n",
        "stk.push(4)\n",
        "stk.push(5)\n",
        " \n",
        "print(\"Original Stack\")\n",
        "stk.show()\n",
        " \n",
        "print(\"\\nStack after Reversing\")\n",
        "Reverse(stk)\n",
        "stk.show()"
      ],
      "metadata": {
        "id": "3Joju0pwoF04"
      },
      "execution_count": null,
      "outputs": []
    },
    {
      "cell_type": "markdown",
      "source": [
        "Q number [10]"
      ],
      "metadata": {
        "id": "dhEI8im9bgeh"
      }
    },
    {
      "cell_type": "code",
      "source": [
        "class Node:\n",
        "    def __init__(self, value):\n",
        "        self.value = value\n",
        "        self.next = None\n",
        "\n",
        "    def __str__(self):\n",
        "        return \"Node({})\".format(self.value)\n",
        " \n",
        "    __repr__ = __str__\n",
        " \n",
        " \n",
        "class Stack:\n",
        "    def __init__(self):\n",
        "        self.top = None\n",
        "        self.count = 0\n",
        "        self.minimum = None\n",
        " \n",
        "    def __str__(self):\n",
        "        temp = self.top\n",
        "        out = []\n",
        "        while temp:\n",
        "            out.append(str(temp.value))\n",
        "            temp = temp.next\n",
        "        out = '\\n'.join(out)\n",
        "        return ('Top {} \\n\\nStack :\\n{}'.format(self.top, out))\n",
        " \n",
        "\n",
        "    __repr__ = __str__\n",
        " \n",
        "    def getMin(self):\n",
        "        if self.top is None:\n",
        "            return \"Stack is empty\"\n",
        "        else:\n",
        "            print(\"Minimum Element in the stack is: {}\" .format(self.minimum))\n",
        " \n",
        " \n",
        "    def isEmpty(self):\n",
        "\n",
        "        if self.top == None:\n",
        "            return True\n",
        "        else:\n",
        "\n",
        "            return False\n",
        " \n",
        "    def __len__(self):\n",
        "        self.count = 0\n",
        "        tempNode = self.top\n",
        "        while tempNode:\n",
        "            tempNode = tempNode.next\n",
        "            self.count += 1\n",
        "        return self.count\n",
        " \n",
        "    def peek(self):\n",
        "        if self.top is None:\n",
        "            print(\"Stack is empty\")\n",
        "        else:\n",
        "            if self.top.value < self.minimum:\n",
        "                print(\"Top Most Element is: {}\" .format(self.minimum))\n",
        "            else:\n",
        "                print(\"Top Most Element is: {}\" .format(self.top.value))\n",
        " \n",
        "    \n",
        "    def push(self, value):\n",
        "        if self.top is None:\n",
        "            self.top = Node(value)\n",
        "            self.minimum = value\n",
        " \n",
        "        elif value < self.minimum:\n",
        "            temp = (2 * value) - self.minimum\n",
        "            new_node = Node(temp)\n",
        "            new_node.next = self.top\n",
        "            self.top = new_node\n",
        "            self.minimum = value\n",
        "        else:\n",
        "            new_node = Node(value)\n",
        "            new_node.next = self.top\n",
        "            self.top = new_node\n",
        "        print(\"Number Inserted: {}\" .format(value))\n",
        " \n",
        "\n",
        "    def pop(self):\n",
        "        if self.top is None:\n",
        "            print(\"Stack is empty\")\n",
        "        else:\n",
        "            removedNode = self.top.value\n",
        "            self.top = self.top.next\n",
        "            if removedNode < self.minimum:\n",
        "                print(\"Top Most Element Removed :{} \" .format(self.minimum))\n",
        "                self.minimum = ((2 * self.minimum) - removedNode)\n",
        "            else:\n",
        "                print(\"Top Most Element Removed : {}\" .format(removedNode))\n",
        " \n",
        "\n",
        "\n",
        "if __name__ == '__main__':\n",
        "   \n",
        "  stack = Stack()\n",
        "   \n",
        "  stack.push(3)\n",
        "  stack.push(5)\n",
        "  stack.getMin()\n",
        "  stack.push(2)\n",
        "  stack.push(1)\n",
        "  stack.getMin()\n",
        "  stack.pop()\n",
        "  stack.getMin()\n",
        "  stack.pop()\n",
        "  stack.peek()\n"
      ],
      "metadata": {
        "colab": {
          "base_uri": "https://localhost:8080/"
        },
        "id": "J-gDsqKmoF3u",
        "outputId": "4e2d81c9-2ee3-4ff5-82f0-c653733883e3"
      },
      "execution_count": null,
      "outputs": [
        {
          "output_type": "stream",
          "name": "stdout",
          "text": [
            "Number Inserted: 3\n",
            "Number Inserted: 5\n",
            "Minimum Element in the stack is: 3\n",
            "Number Inserted: 2\n",
            "Number Inserted: 1\n",
            "Minimum Element in the stack is: 1\n",
            "Top Most Element Removed :1 \n",
            "Minimum Element in the stack is: 2\n",
            "Top Most Element Removed :2 \n",
            "Top Most Element is: 5\n"
          ]
        }
      ]
    }
  ]
}