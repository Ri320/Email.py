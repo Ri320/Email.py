{
  "nbformat": 4,
  "nbformat_minor": 0,
  "metadata": {
    "colab": {
      "provenance": []
    },
    "kernelspec": {
      "name": "python3",
      "display_name": "Python 3"
    },
    "language_info": {
      "name": "python"
    }
  },
  "cells": [
    {
      "cell_type": "markdown",
      "source": [
        "**main.py**"
      ],
      "metadata": {
        "id": "CyO4tu2q_vvn"
      }
    },
    {
      "cell_type": "code",
      "execution_count": null,
      "metadata": {
        "id": "UnWplgjG_WFj"
      },
      "outputs": [],
      "source": [
        "import phonenumbers\n",
        "import opencage\n",
        "import folium\n",
        "from myphone import number\n",
        "\n",
        "from phonenumbers import geocoder\n",
        "\n",
        "pepnumber = phonenumbers.parse(number)\n",
        "location = geocoder.description_for_number(pepnumber, \"en\")\n",
        "print(location)\n",
        "\n",
        "from phonenumbers import carrier\n",
        "service_pro = phonenumbers.parse(number)\n",
        "print(carrier.name_for_number(service_pro, \"en\"))\n",
        "\n",
        "from opencage.geocoder import OpenCageGeocode\n",
        "\n",
        "key = '1b842ac54700437fbe0f97a4a9a597f4'\n",
        "\n",
        "geocoder = OpenCageGeocode(key)\n",
        "query = str(location)\n",
        "results = geocoder.geocode(query)\n",
        "#print(results)\n",
        "\n",
        "lat = results[0]['geometry']['lat']\n",
        "lng = results[0]['geometry']['lng']\n",
        "\n",
        "print(lat,lng)\n",
        "\n",
        "myMap = folium.Map(location=[lat,lng],zoom_start=9)\n",
        "folium.Marker([lat,lng],popup=location).add_to(myMap)\n",
        "\n",
        "myMap.save(\"mylocation.html\")"
      ]
    },
    {
      "cell_type": "markdown",
      "source": [
        "**myphone**"
      ],
      "metadata": {
        "id": "UH7465nM_4Zb"
      }
    },
    {
      "cell_type": "code",
      "source": [
        "number = \"number will hear\""
      ],
      "metadata": {
        "id": "HV-MRdlL_0TA"
      },
      "execution_count": null,
      "outputs": []
    }
  ]
}