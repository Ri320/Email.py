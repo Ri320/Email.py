{
  "cells": [
    {
      "cell_type": "markdown",
      "metadata": {
        "id": "cmnRAQauJ75i"
      },
      "source": [
        "**1.Convert JSON to CSV **"
      ]
    },
    {
      "cell_type": "code",
      "execution_count": null,
      "metadata": {
        "colab": {
          "base_uri": "https://localhost:8080/"
        },
        "id": "xzaE7iNTJeC8",
        "outputId": "b82ab1a0-a72a-4ada-d42a-6d4b62aff5e4"
      },
      "outputs": [
        {
          "name": "stdout",
          "output_type": "stream",
          "text": [
            "Looking in indexes: https://pypi.org/simple, https://us-python.pkg.dev/colab-wheels/public/simple/\n",
            "\u001b[31mERROR: Could not find a version that satisfies the requirement json (from versions: none)\u001b[0m\u001b[31m\n",
            "\u001b[0m\u001b[31mERROR: No matching distribution found for json\u001b[0m\u001b[31m\n",
            "\u001b[0m"
          ]
        }
      ],
      "source": [
        "pip install json"
      ]
    },
    {
      "cell_type": "code",
      "execution_count": null,
      "metadata": {
        "colab": {
          "base_uri": "https://localhost:8080/"
        },
        "id": "IQFzp5PiJeGr",
        "outputId": "2f3a14e1-3528-46e0-a5ed-0700fa68b4e6"
      },
      "outputs": [
        {
          "name": "stdout",
          "output_type": "stream",
          "text": [
            "Error: [Errno 2] No such file or directory: ' /content/continent.json'\n"
          ]
        }
      ],
      "source": [
        "import json\n",
        "if __name__ == '__main__':\n",
        " try :\n",
        "    with open (' /content/continent.json','r') as f:\n",
        "      data = json.loads(f.read())\n",
        "\n",
        "    output = ' , '.join([*data[0]])\n",
        "    for obj in data:\n",
        "      output += f'\\n{obj[\"Name\"]},{obj[\"age\"]},{obj[\"birthyear\"]}'\n",
        "\n",
        "    with open('output.csv','w') as f:\n",
        "        f.write(output)\n",
        "\n",
        " except Exception as ex:\n",
        "    print(f'Error: {str(ex)}')\n",
        ""
      ]
    },
    {
      "cell_type": "markdown",
      "metadata": {
        "id": "0Bx-G6KgOcgm"
      },
      "source": [
        "**2. Password Genrator**"
      ]
    },
    {
      "cell_type": "code",
      "execution_count": null,
      "metadata": {
        "colab": {
          "base_uri": "https://localhost:8080/"
        },
        "id": "TH7j-PVkJeJd",
        "outputId": "4047bf37-20a0-4bca-e493-77670aa1a0d7"
      },
      "outputs": [
        {
          "name": "stdout",
          "output_type": "stream",
          "text": [
            "vR!%.\"'Q\n"
          ]
        }
      ],
      "source": [
        "import random\n",
        "import string\n",
        "total = string.ascii_letters + string.digits + string.punctuation\n",
        "lenght = 8\n",
        "password = \"\".join(random.sample(total, lenght))\n",
        "print(password)"
      ]
    },
    {
      "cell_type": "markdown",
      "metadata": {
        "id": "mM_6KPVfPNQ7"
      },
      "source": [
        "**3.String search from multiput files**"
      ]
    },
    {
      "cell_type": "code",
      "execution_count": null,
      "metadata": {
        "colab": {
          "base_uri": "https://localhost:8080/",
          "height": 356
        },
        "id": "QM4z0JjqJeMx",
        "outputId": "ad767112-d8ca-4732-9405-aa7018cc1151"
      },
      "outputs": [
        {
          "name": "stdout",
          "output_type": "stream",
          "text": [
            "input text : ritik\n",
            " path :rityj]\n"
          ]
        },
        {
          "ename": "FileNotFoundError",
          "evalue": "ignored",
          "output_type": "error",
          "traceback": [
            "\u001b[0;31m---------------------------------------------------------------------------\u001b[0m",
            "\u001b[0;31mFileNotFoundError\u001b[0m                         Traceback (most recent call last)",
            "\u001b[0;32m<ipython-input-16-f1daed858e88>\u001b[0m in \u001b[0;36m<cell line: 25>\u001b[0;34m()\u001b[0m\n\u001b[1;32m     23\u001b[0m       \u001b[0;32mreturn\u001b[0m \u001b[0;32mFalse\u001b[0m\u001b[0;34m\u001b[0m\u001b[0;34m\u001b[0m\u001b[0m\n\u001b[1;32m     24\u001b[0m \u001b[0;34m\u001b[0m\u001b[0m\n\u001b[0;32m---> 25\u001b[0;31m \u001b[0mgetfiles\u001b[0m\u001b[0;34m(\u001b[0m\u001b[0mpath\u001b[0m\u001b[0;34m)\u001b[0m\u001b[0;34m\u001b[0m\u001b[0;34m\u001b[0m\u001b[0m\n\u001b[0m",
            "\u001b[0;32m<ipython-input-16-f1daed858e88>\u001b[0m in \u001b[0;36mgetfiles\u001b[0;34m(path)\u001b[0m\n\u001b[1;32m      5\u001b[0m \u001b[0;32mdef\u001b[0m \u001b[0mgetfiles\u001b[0m\u001b[0;34m(\u001b[0m\u001b[0mpath\u001b[0m\u001b[0;34m)\u001b[0m\u001b[0;34m:\u001b[0m\u001b[0;34m\u001b[0m\u001b[0;34m\u001b[0m\u001b[0m\n\u001b[1;32m      6\u001b[0m     \u001b[0mf\u001b[0m \u001b[0;34m=\u001b[0m \u001b[0;36m0\u001b[0m\u001b[0;34m\u001b[0m\u001b[0;34m\u001b[0m\u001b[0m\n\u001b[0;32m----> 7\u001b[0;31m     \u001b[0mos\u001b[0m\u001b[0;34m.\u001b[0m\u001b[0mchdir\u001b[0m\u001b[0;34m(\u001b[0m\u001b[0mpath\u001b[0m\u001b[0;34m)\u001b[0m\u001b[0;34m\u001b[0m\u001b[0;34m\u001b[0m\u001b[0m\n\u001b[0m\u001b[1;32m      8\u001b[0m     \u001b[0;31m#print (files)\u001b[0m\u001b[0;34m\u001b[0m\u001b[0;34m\u001b[0m\u001b[0m\n\u001b[1;32m      9\u001b[0m     \u001b[0;32mfor\u001b[0m \u001b[0mfile_name\u001b[0m \u001b[0;32min\u001b[0m \u001b[0mfiles\u001b[0m\u001b[0;34m:\u001b[0m\u001b[0;34m\u001b[0m\u001b[0;34m\u001b[0m\u001b[0m\n",
            "\u001b[0;31mFileNotFoundError\u001b[0m: [Errno 2] No such file or directory: 'rityj]'"
          ]
        }
      ],
      "source": [
        "import os\n",
        "text = input(\"input text : \")\n",
        "path = input(\" path :\")\n",
        "# os. chdir (path)\n",
        "def getfiles(path):\n",
        "    f = 0\n",
        "    os.chdir(path)\n",
        "    #print (files)\n",
        "    for file_name in files:\n",
        "      abs_path = os.path.abspath(file_name)\n",
        "      if os.path.isdir(abs_path):\n",
        "        getfiles(abs_path)\n",
        "      if os.path.isfile(abs_path):\n",
        "        f = open(file_name, \"r\")\n",
        "        if text in f.read():\n",
        "          f = 1\n",
        "          print(text + \"found in\")\n",
        "          final_path = os.path.abapath(file_name)\n",
        "          print(final_path)\n",
        "          return True\n",
        "    if f == 1:\n",
        "      print(text + \"not found\")\n",
        "      return False\n",
        "\n",
        "getfiles(path)"
      ]
    },
    {
      "cell_type": "markdown",
      "metadata": {
        "id": "qsg-1BmYSCVd"
      },
      "source": [
        "**Fetch all links from a given webpage**"
      ]
    },
    {
      "cell_type": "code",
      "execution_count": null,
      "metadata": {
        "colab": {
          "base_uri": "https://localhost:8080/"
        },
        "id": "C6hQEsYGJeQT",
        "outputId": "0edbf0ed-33e7-4ce7-c3b9-5a786b0ce846"
      },
      "outputs": [
        {
          "name": "stdout",
          "output_type": "stream",
          "text": [
            "Looking in indexes: https://pypi.org/simple, https://us-python.pkg.dev/colab-wheels/public/simple/\n",
            "Requirement already satisfied: beautifulsoup4 in /usr/local/lib/python3.10/dist-packages (4.11.2)\n",
            "Requirement already satisfied: requests in /usr/local/lib/python3.10/dist-packages (2.27.1)\n",
            "Requirement already satisfied: soupsieve>1.2 in /usr/local/lib/python3.10/dist-packages (from beautifulsoup4) (2.4.1)\n",
            "Requirement already satisfied: urllib3<1.27,>=1.21.1 in /usr/local/lib/python3.10/dist-packages (from requests) (1.26.15)\n",
            "Requirement already satisfied: certifi>=2017.4.17 in /usr/local/lib/python3.10/dist-packages (from requests) (2022.12.7)\n",
            "Requirement already satisfied: charset-normalizer~=2.0.0 in /usr/local/lib/python3.10/dist-packages (from requests) (2.0.12)\n",
            "Requirement already satisfied: idna<4,>=2.5 in /usr/local/lib/python3.10/dist-packages (from requests) (3.4)\n"
          ]
        }
      ],
      "source": [
        "pip install beautifulsoup4 requests"
      ]
    },
    {
      "cell_type": "code",
      "execution_count": null,
      "metadata": {
        "colab": {
          "base_uri": "https://localhost:8080/"
        },
        "id": "_phttrZqSMqP",
        "outputId": "6c01eed1-7813-446f-e5a9-e0c8de07eae7"
      },
      "outputs": [
        {
          "name": "stdout",
          "output_type": "stream",
          "text": [
            "Enter Link :https://www.linkedin.com/in/ritik-jwala-593b15251/\n"
          ]
        }
      ],
      "source": [
        "import requests as rq\n",
        "from bs4 import BeautifulSoup\n",
        "\n",
        "url = input(\"Enter Link :\")\n",
        "if (\"https\" or \"http\") in url:\n",
        "  data = rq.get(url)\n",
        "\n",
        "else:\n",
        "  data = rq.get(\"https://\"+ url)\n",
        "soup = BeautifulSoup(data.text, \"html.parser\")\n",
        "\n",
        "links =[]\n",
        "for link in soup.find_all(\"a\"):\n",
        "  links.append(link.get(\"href\"))\n",
        "\n",
        "with open(\"myLinks.txt\",'a') as saved:\n",
        "    print(links[:10],file = saved)\n"
      ]
    },
    {
      "cell_type": "markdown",
      "metadata": {
        "id": "HJ9b4opXVVcF"
      },
      "source": [
        "**5.Image Watermarking**"
      ]
    },
    {
      "cell_type": "code",
      "execution_count": null,
      "metadata": {
        "colab": {
          "base_uri": "https://localhost:8080/"
        },
        "id": "0ubJksSOSMoH",
        "outputId": "9fda0d26-0552-48ea-c05b-958e8d0d4a00"
      },
      "outputs": [
        {
          "name": "stdout",
          "output_type": "stream",
          "text": [
            "Looking in indexes: https://pypi.org/simple, https://us-python.pkg.dev/colab-wheels/public/simple/\n",
            "Requirement already satisfied: Pillow in /usr/local/lib/python3.10/dist-packages (8.4.0)\n"
          ]
        }
      ],
      "source": [
        "pip install Pillow"
      ]
    },
    {
      "cell_type": "code",
      "execution_count": null,
      "metadata": {
        "colab": {
          "base_uri": "https://localhost:8080/",
          "height": 130
        },
        "id": "UaV3onfKSMlr",
        "outputId": "206c7fb9-07c5-4d41-cdea-b3df539bd870"
      },
      "outputs": [
        {
          "ename": "SyntaxError",
          "evalue": "ignored",
          "output_type": "error",
          "traceback": [
            "\u001b[0;36m  File \u001b[0;32m\"<ipython-input-28-0f19943698b2>\"\u001b[0;36m, line \u001b[0;32m5\u001b[0m\n\u001b[0;31m    watermarks_photo(input_image_path,watermark_image_path,output_image_path):\u001b[0m\n\u001b[0m                                                                             ^\u001b[0m\n\u001b[0;31mSyntaxError\u001b[0m\u001b[0;31m:\u001b[0m invalid syntax\n"
          ]
        }
      ],
      "source": [
        "import os\n",
        "from PIL import Image\n",
        "\n",
        "def\n",
        "watermarks_photo(input_image_path,watermark_image_path,output_image_path):\n",
        "    base_image = Image.open(input_image_path)\n",
        "    watermark = Image.open(watermark_image_path).convert(\"RGBA\")\n",
        "\n",
        "    position = base_image.size\n",
        "    newsize = (int(position.size[0]*8/100),int(position[0]*8/100))\n",
        "\n",
        "    watermark = watermark.resize(newsize)\n",
        "\n",
        "    new_position = position[0]-newsize[0]-20,position[1]-newsize[1]-20\n",
        "\n",
        "    tarnsparent = Image.new(mode = 'RGBA', size = position,color=(0,0,0,0))\n",
        "\n",
        "    tarnsparent.paste(base_image,(0,0))\n",
        "\n",
        "    tarnsparent.paste(watermark,new_position,watermark)\n",
        "    image_mode = base_image.mode\n",
        "    print(image_mode)\n",
        "    if image_mode == 'RGB':\n",
        "        tarnsparent = tarnsparent.convert(image_mode)\n",
        "    else:\n",
        "        tarnsparent = tarnsparent.convert('P')\n",
        "    tarnsparent.save(output_image_path ,optimize=True,quality=100)\n",
        "    print(\"Saving\"+output_image_path+\"...\")\n",
        "\n",
        "    folder = input(\"Enter Folder Path:\")\n",
        "\n",
        "    watermark = input(\"Enter Watermark Path :\")\n",
        "    os.chdir(folder)\n",
        "    files = os.listdir(os.getcwd())\n",
        "    print(files)\n",
        "\n",
        "    if not os.path.isdir(\"output\"):\n",
        "      os.mkdir(\"output\")\n",
        "\n",
        "    c = 1\n",
        "    for f in files:\n",
        "      if os.path.isfile(os.path.abspath(f)):\n",
        "         if f .endswith(\".png\") or f.endswith(\".jpg\"):\n",
        "             watermarks_photo(f,watermark,\"output/\"+f)"
      ]
    },
    {
      "cell_type": "markdown",
      "metadata": {
        "id": "re_cgepElQEK"
      },
      "source": [
        "**6.Scrap and Download all images from the WEB page**"
      ]
    },
    {
      "cell_type": "code",
      "execution_count": null,
      "metadata": {
        "colab": {
          "base_uri": "https://localhost:8080/"
        },
        "id": "uP2dIEy8SMiN",
        "outputId": "a29b13c3-2fbe-4c11-ebc3-6567c4a072e4"
      },
      "outputs": [
        {
          "name": "stdout",
          "output_type": "stream",
          "text": [
            "Looking in indexes: https://pypi.org/simple, https://us-python.pkg.dev/colab-wheels/public/simple/\n",
            "Collecting selenium\n",
            "  Downloading selenium-4.9.1-py3-none-any.whl (6.6 MB)\n",
            "\u001b[2K     \u001b[90m━━━━━━━━━━━━━━━━━━━━━━━━━━━━━━━━━━━━━━━━\u001b[0m \u001b[32m6.6/6.6 MB\u001b[0m \u001b[31m62.4 MB/s\u001b[0m eta \u001b[36m0:00:00\u001b[0m\n",
            "\u001b[?25hRequirement already satisfied: BeautifulSoup4 in /usr/local/lib/python3.10/dist-packages (4.11.2)\n",
            "Requirement already satisfied: urllib3[socks]<3,>=1.26 in /usr/local/lib/python3.10/dist-packages (from selenium) (1.26.15)\n",
            "Collecting trio~=0.17 (from selenium)\n",
            "  Downloading trio-0.22.0-py3-none-any.whl (384 kB)\n",
            "\u001b[2K     \u001b[90m━━━━━━━━━━━━━━━━━━━━━━━━━━━━━━━━━━━━━━\u001b[0m \u001b[32m384.9/384.9 kB\u001b[0m \u001b[31m26.6 MB/s\u001b[0m eta \u001b[36m0:00:00\u001b[0m\n",
            "\u001b[?25hCollecting trio-websocket~=0.9 (from selenium)\n",
            "  Downloading trio_websocket-0.10.2-py3-none-any.whl (17 kB)\n",
            "Requirement already satisfied: certifi>=2021.10.8 in /usr/local/lib/python3.10/dist-packages (from selenium) (2022.12.7)\n",
            "Requirement already satisfied: soupsieve>1.2 in /usr/local/lib/python3.10/dist-packages (from BeautifulSoup4) (2.4.1)\n",
            "Requirement already satisfied: attrs>=19.2.0 in /usr/local/lib/python3.10/dist-packages (from trio~=0.17->selenium) (23.1.0)\n",
            "Requirement already satisfied: sortedcontainers in /usr/local/lib/python3.10/dist-packages (from trio~=0.17->selenium) (2.4.0)\n",
            "Collecting async-generator>=1.9 (from trio~=0.17->selenium)\n",
            "  Downloading async_generator-1.10-py3-none-any.whl (18 kB)\n",
            "Requirement already satisfied: idna in /usr/local/lib/python3.10/dist-packages (from trio~=0.17->selenium) (3.4)\n",
            "Collecting outcome (from trio~=0.17->selenium)\n",
            "  Downloading outcome-1.2.0-py2.py3-none-any.whl (9.7 kB)\n",
            "Requirement already satisfied: sniffio in /usr/local/lib/python3.10/dist-packages (from trio~=0.17->selenium) (1.3.0)\n",
            "Requirement already satisfied: exceptiongroup>=1.0.0rc9 in /usr/local/lib/python3.10/dist-packages (from trio~=0.17->selenium) (1.1.1)\n",
            "Collecting wsproto>=0.14 (from trio-websocket~=0.9->selenium)\n",
            "  Downloading wsproto-1.2.0-py3-none-any.whl (24 kB)\n",
            "Requirement already satisfied: PySocks!=1.5.7,<2.0,>=1.5.6 in /usr/local/lib/python3.10/dist-packages (from urllib3[socks]<3,>=1.26->selenium) (1.7.1)\n",
            "Collecting h11<1,>=0.9.0 (from wsproto>=0.14->trio-websocket~=0.9->selenium)\n",
            "  Downloading h11-0.14.0-py3-none-any.whl (58 kB)\n",
            "\u001b[2K     \u001b[90m━━━━━━━━━━━━━━━━━━━━━━━━━━━━━━━━━━━━━━━━\u001b[0m \u001b[32m58.3/58.3 kB\u001b[0m \u001b[31m6.8 MB/s\u001b[0m eta \u001b[36m0:00:00\u001b[0m\n",
            "\u001b[?25hInstalling collected packages: outcome, h11, async-generator, wsproto, trio, trio-websocket, selenium\n",
            "Successfully installed async-generator-1.10 h11-0.14.0 outcome-1.2.0 selenium-4.9.1 trio-0.22.0 trio-websocket-0.10.2 wsproto-1.2.0\n"
          ]
        }
      ],
      "source": [
        "\n",
        "pip install selenium BeautifulSoup4"
      ]
    },
    {
      "cell_type": "code",
      "execution_count": null,
      "metadata": {
        "colab": {
          "base_uri": "https://localhost:8080/",
          "height": 130
        },
        "id": "zbm7EfoqSMey",
        "outputId": "1d39504d-8521-426b-99a7-d3503d2de70f"
      },
      "outputs": [
        {
          "output_type": "error",
          "ename": "SyntaxError",
          "evalue": "ignored",
          "traceback": [
            "\u001b[0;36m  File \u001b[0;32m\"<ipython-input-2-7e67e06886e5>\"\u001b[0;36m, line \u001b[0;32m37\u001b[0m\n\u001b[0;31m    with open(output +\"\\\\\"+ str(index + 1)+ extension, \"wb\" as f:\u001b[0m\n\u001b[0m                                                            ^\u001b[0m\n\u001b[0;31mSyntaxError\u001b[0m\u001b[0;31m:\u001b[0m invalid syntax\n"
          ]
        }
      ],
      "source": [
        "from IPython.terminal.shortcuts import reset_buffer\n",
        "from IPython.core import extensions\n",
        "from selenium import webdriver\n",
        "import requests as rq\n",
        "import os\n",
        "from bs4 import BeautifulSoup\n",
        "import time\n",
        "\n",
        "path = input(\"Enter path : \")\n",
        "\n",
        "url = input (\"Enter URL : \")\n",
        "\n",
        "output = \"output\"\n",
        "\n",
        "def get_url(path, url):\n",
        "    driver = webdriver.Chrome(executable_path=r\"{}\".format(path))\n",
        "    driver.get(url)\n",
        "    print(\"loading......\")\n",
        "    res = driver.execute_script(\"returndocument.documentElemnet.outerHTMT \")\n",
        "\n",
        "    return res\n",
        "\n",
        "def get_img_links(res):\n",
        "  suop = BeautifulSoup(res,\"lxml\")\n",
        "  imglinks = soup.find_all(\"img\",src=True)\n",
        "  return imglinks\n",
        "\n",
        "def download_img(img_link,index):\n",
        "    try:\n",
        "        extensions = [\".jpeg\",\".jpg\",\".png\",\".gif\"]\n",
        "        extensions = \".jpg\"\n",
        "        for exe in extensions:\n",
        "            if img_link.find(exe) > 0:\n",
        "                extension = exe\n",
        "                break\n",
        "        img_data = rq.get(img_link).content\n",
        "        with open(output +\"\\\\\"+ str(index + 1)+ extension, \"wb\" as f:\n",
        "             f.write(img_data))\n",
        "        f.close()\n",
        "    except Exception\n",
        "       pass\n",
        "result = get_url(path,url)\n",
        "time.sleep(60)\n",
        "img_links = get_img_links(result)\n",
        "if not os.path.isdir(output):\n",
        "  os.mkdir(output)\n",
        "\n",
        "for index, img_link in enumerate(img_link):\n",
        "  img_link = img_link[\"src\"]\n",
        "  print(\"Downloading...\")\n",
        "  if img_link:\n",
        "      download_img(img_link,index)\n",
        "print(\"Download Complete !!\")"
      ]
    },
    {
      "cell_type": "markdown",
      "source": [
        "**7.Low Battery Notification**"
      ],
      "metadata": {
        "id": "NS0PoQpu9bKA"
      }
    },
    {
      "cell_type": "code",
      "source": [
        "pip install win11toast"
      ],
      "metadata": {
        "colab": {
          "base_uri": "https://localhost:8080/"
        },
        "id": "H9w5zX8NA82M",
        "outputId": "59494164-d03a-4439-cb05-e9250c3c056c"
      },
      "execution_count": null,
      "outputs": [
        {
          "output_type": "stream",
          "name": "stdout",
          "text": [
            "Looking in indexes: https://pypi.org/simple, https://us-python.pkg.dev/colab-wheels/public/simple/\n",
            "Collecting win11toast\n",
            "  Downloading win11toast-0.32-py3-none-any.whl (9.2 kB)\n",
            "Collecting winsdk (from win11toast)\n",
            "  Downloading winsdk-1.0.0b9.tar.gz (7.1 MB)\n",
            "\u001b[2K     \u001b[90m━━━━━━━━━━━━━━━━━━━━━━━━━━━━━━━━━━━━━━━━\u001b[0m \u001b[32m7.1/7.1 MB\u001b[0m \u001b[31m51.5 MB/s\u001b[0m eta \u001b[36m0:00:00\u001b[0m\n",
            "\u001b[?25h  Installing build dependencies ... \u001b[?25l\u001b[?25hdone\n",
            "  Getting requirements to build wheel ... \u001b[?25l\u001b[?25hdone\n",
            "  Preparing metadata (pyproject.toml) ... \u001b[?25l\u001b[?25hdone\n",
            "Building wheels for collected packages: winsdk\n",
            "  \u001b[1;31merror\u001b[0m: \u001b[1msubprocess-exited-with-error\u001b[0m\n",
            "  \n",
            "  \u001b[31m×\u001b[0m \u001b[32mBuilding wheel for winsdk \u001b[0m\u001b[1;32m(\u001b[0m\u001b[32mpyproject.toml\u001b[0m\u001b[1;32m)\u001b[0m did not run successfully.\n",
            "  \u001b[31m│\u001b[0m exit code: \u001b[1;36m1\u001b[0m\n",
            "  \u001b[31m╰─>\u001b[0m See above for output.\n",
            "  \n",
            "  \u001b[1;35mnote\u001b[0m: This error originates from a subprocess, and is likely not a problem with pip.\n",
            "  Building wheel for winsdk (pyproject.toml) ... \u001b[?25l\u001b[?25herror\n",
            "\u001b[31m  ERROR: Failed building wheel for winsdk\u001b[0m\u001b[31m\n",
            "\u001b[0mFailed to build winsdk\n",
            "\u001b[31mERROR: Could not build wheels for winsdk, which is required to install pyproject.toml-based projects\u001b[0m\u001b[31m\n",
            "\u001b[0m"
          ]
        }
      ]
    },
    {
      "cell_type": "code",
      "source": [
        "pip install py-notifier"
      ],
      "metadata": {
        "colab": {
          "base_uri": "https://localhost:8080/"
        },
        "id": "eqlIKUODAlZf",
        "outputId": "c598180e-ec27-4eef-84ca-58acb55baabc"
      },
      "execution_count": null,
      "outputs": [
        {
          "output_type": "stream",
          "name": "stdout",
          "text": [
            "Looking in indexes: https://pypi.org/simple, https://us-python.pkg.dev/colab-wheels/public/simple/\n",
            "Collecting py-notifier\n",
            "  Downloading py_notifier-0.5.0-py3-none-any.whl (10 kB)\n",
            "Installing collected packages: py-notifier\n",
            "Successfully installed py-notifier-0.5.0\n"
          ]
        }
      ]
    },
    {
      "cell_type": "code",
      "source": [
        "import psutil\n",
        "import pynotifier\n",
        "battery = psutil.sensors_battery()\n",
        "plugged = battery.power_plugged\n",
        "percent = battery.percent\n",
        "\n",
        "if percent <= 30 and plugged!=True:\n",
        "\n",
        "\n",
        "\n",
        "  from pynotifier import Notification\n",
        "\n",
        "  Notification(title=\"Battery Low\",\n",
        "  desceription=str(percent)+\"% Battery Remain\",\n",
        "  duraton=5,).send()"
      ],
      "metadata": {
        "colab": {
          "base_uri": "https://localhost:8080/",
          "height": 380
        },
        "id": "dkH3i44r8u7e",
        "outputId": "3f1a7216-f480-44ea-bb91-a39359b45151"
      },
      "execution_count": null,
      "outputs": [
        {
          "output_type": "error",
          "ename": "FileNotFoundError",
          "evalue": "ignored",
          "traceback": [
            "\u001b[0;31m---------------------------------------------------------------------------\u001b[0m",
            "\u001b[0;31mFileNotFoundError\u001b[0m                         Traceback (most recent call last)",
            "\u001b[0;32m<ipython-input-20-4105712f50ba>\u001b[0m in \u001b[0;36m<cell line: 3>\u001b[0;34m()\u001b[0m\n\u001b[1;32m      1\u001b[0m \u001b[0;32mimport\u001b[0m \u001b[0mpsutil\u001b[0m\u001b[0;34m\u001b[0m\u001b[0;34m\u001b[0m\u001b[0m\n\u001b[1;32m      2\u001b[0m \u001b[0;32mimport\u001b[0m \u001b[0mpynotifier\u001b[0m\u001b[0;34m\u001b[0m\u001b[0;34m\u001b[0m\u001b[0m\n\u001b[0;32m----> 3\u001b[0;31m \u001b[0mbattery\u001b[0m \u001b[0;34m=\u001b[0m \u001b[0mpsutil\u001b[0m\u001b[0;34m.\u001b[0m\u001b[0msensors_battery\u001b[0m\u001b[0;34m(\u001b[0m\u001b[0;34m)\u001b[0m\u001b[0;34m\u001b[0m\u001b[0;34m\u001b[0m\u001b[0m\n\u001b[0m\u001b[1;32m      4\u001b[0m \u001b[0mplugged\u001b[0m \u001b[0;34m=\u001b[0m \u001b[0mbattery\u001b[0m\u001b[0;34m.\u001b[0m\u001b[0mpower_plugged\u001b[0m\u001b[0;34m\u001b[0m\u001b[0;34m\u001b[0m\u001b[0m\n\u001b[1;32m      5\u001b[0m \u001b[0mpercent\u001b[0m \u001b[0;34m=\u001b[0m \u001b[0mbattery\u001b[0m\u001b[0;34m.\u001b[0m\u001b[0mpercent\u001b[0m\u001b[0;34m\u001b[0m\u001b[0;34m\u001b[0m\u001b[0m\n",
            "\u001b[0;32m/usr/local/lib/python3.10/dist-packages/psutil/__init__.py\u001b[0m in \u001b[0;36msensors_battery\u001b[0;34m()\u001b[0m\n\u001b[1;32m   2296\u001b[0m          \u001b[0;34m-\u001b[0m \u001b[0mpower_plugged\u001b[0m\u001b[0;34m:\u001b[0m \u001b[0;32mTrue\u001b[0m \u001b[0;32mif\u001b[0m \u001b[0mthe\u001b[0m \u001b[0mAC\u001b[0m \u001b[0mpower\u001b[0m \u001b[0mcable\u001b[0m \u001b[0;32mis\u001b[0m \u001b[0mconnected\u001b[0m\u001b[0;34m.\u001b[0m\u001b[0;34m\u001b[0m\u001b[0;34m\u001b[0m\u001b[0m\n\u001b[1;32m   2297\u001b[0m         \"\"\"\n\u001b[0;32m-> 2298\u001b[0;31m         \u001b[0;32mreturn\u001b[0m \u001b[0m_psplatform\u001b[0m\u001b[0;34m.\u001b[0m\u001b[0msensors_battery\u001b[0m\u001b[0;34m(\u001b[0m\u001b[0;34m)\u001b[0m\u001b[0;34m\u001b[0m\u001b[0;34m\u001b[0m\u001b[0m\n\u001b[0m\u001b[1;32m   2299\u001b[0m \u001b[0;34m\u001b[0m\u001b[0m\n\u001b[1;32m   2300\u001b[0m     \u001b[0m__all__\u001b[0m\u001b[0;34m.\u001b[0m\u001b[0mappend\u001b[0m\u001b[0;34m(\u001b[0m\u001b[0;34m\"sensors_battery\"\u001b[0m\u001b[0;34m)\u001b[0m\u001b[0;34m\u001b[0m\u001b[0;34m\u001b[0m\u001b[0m\n",
            "\u001b[0;32m/usr/local/lib/python3.10/dist-packages/psutil/_pslinux.py\u001b[0m in \u001b[0;36msensors_battery\u001b[0;34m()\u001b[0m\n\u001b[1;32m   1473\u001b[0m         \u001b[0;32mreturn\u001b[0m \u001b[0;32mNone\u001b[0m\u001b[0;34m\u001b[0m\u001b[0;34m\u001b[0m\u001b[0m\n\u001b[1;32m   1474\u001b[0m \u001b[0;34m\u001b[0m\u001b[0m\n\u001b[0;32m-> 1475\u001b[0;31m     bats = [x for x in os.listdir(POWER_SUPPLY_PATH) if x.startswith('BAT') or\n\u001b[0m\u001b[1;32m   1476\u001b[0m             'battery' in x.lower()]\n\u001b[1;32m   1477\u001b[0m     \u001b[0;32mif\u001b[0m \u001b[0;32mnot\u001b[0m \u001b[0mbats\u001b[0m\u001b[0;34m:\u001b[0m\u001b[0;34m\u001b[0m\u001b[0;34m\u001b[0m\u001b[0m\n",
            "\u001b[0;31mFileNotFoundError\u001b[0m: [Errno 2] No such file or directory: '/sys/class/power_supply'"
          ]
        }
      ]
    },
    {
      "cell_type": "markdown",
      "source": [
        "**8.Calculate Your Age**"
      ],
      "metadata": {
        "id": "C5OpnNlCEI2L"
      }
    },
    {
      "cell_type": "code",
      "source": [
        "from prompt_toolkit.key_binding.bindings.completion import E\n",
        "from inspect import FullArgSpec\n",
        "import time\n",
        "from calendar import isleap\n",
        "\n",
        "def judge_leap_year(year):\n",
        "  if isleap(year):\n",
        "    return True\n",
        "  else:\n",
        "    return False\n",
        "\n",
        "def month_days(month, leap_year):\n",
        "    if month in[1,3,5,7,8,10,12]:\n",
        "      return 31\n",
        "    elif month in[4,6,9,11]:\n",
        "      return 30\n",
        "    elif month ==2 and leap_year:\n",
        "      return 29\n",
        "    elif month ==2 and(not leap_year):\n",
        "      return 28\n",
        "\n",
        "name = input(\"input your name :\")\n",
        "age = input(\"input your age :\")\n",
        "localtime = time.localtime(time.time())\n",
        "\n",
        "year = int(age)\n",
        "month = year * 12 + localtime.tm_mon\n",
        "day = 0\n",
        "\n",
        "begin_year = int(localtime.tm_year) - year\n",
        "end_year = begin_year + year\n",
        "\n",
        "for y in range(begin_year,end_year):\n",
        "  if (judge_leap_year(y)):\n",
        "      day = day + 366\n",
        "  else:\n",
        "      day = day + 365\n",
        "leap_year = judge_leap_year(localtime.tm_year)\n",
        "for m in range(1,localtime.tm_mon):\n",
        "  day = day + month_days(m, leap_year)\n",
        "\n",
        "day = day + localtime.tm_mday\n",
        "print(\"%s's age is %d years or \" % (name,year),end=\"\")\n",
        "print(\"%d months or %d days\" % (month,day))"
      ],
      "metadata": {
        "colab": {
          "base_uri": "https://localhost:8080/"
        },
        "id": "rxq4k46iEITi",
        "outputId": "60c781b3-8e64-40fb-f531-1d7bb8cff5df"
      },
      "execution_count": null,
      "outputs": [
        {
          "output_type": "stream",
          "name": "stdout",
          "text": [
            "input your name :Ritik\n",
            "input your age :21\n",
            "Ritik's age is 21 years or 258 months or 7823 days\n"
          ]
        }
      ]
    },
    {
      "cell_type": "markdown",
      "source": [
        "**9.Organized download folder with different categories**"
      ],
      "metadata": {
        "id": "MAqHnwbBJnM3"
      }
    },
    {
      "cell_type": "code",
      "source": [
        "import os\n",
        "import shutil\n",
        "os.chdir(\"E:/content/Ritik Jwala (1).pdf\")\n",
        "\n",
        "files = os.listdir()\n",
        "\n",
        "extention ={\n",
        "    \"images\": [\".jpg\",\".png\",\".jpeg\",\".gif\"],\n",
        "    \"videos\": [\".mp4\",\".mkv\"],\n",
        "    \"musics\": [\".mp3\",\".wav\"],\n",
        "    \"zip\":    [\".zip\",\".tgz\",\".rar\",\".tar\"],\n",
        "    \"documents\": [\".pdf\",\".docx\",\".csv\",\".xlsx\",\".pptx\",\".doc\",\n",
        "    \".ppt\",\".xls\"],\n",
        "    \"setup\": [\".msi\",\".exe\"],\n",
        "    \"programs\": [\".py\",\".c\",\".cpp\",\".php\",\".C\",\".CPP\"],\n",
        "    \"desing\": [\".xd\", \".psd\"]\n",
        "}\n",
        "\n",
        "def sorting(file):\n",
        "  keys = list(extention.keys())\n",
        "  for key in keys:\n",
        "      for ext in extention[key]:\n",
        "\n",
        "          if file.endswith(ext):\n",
        "             return key\n",
        "\n",
        "for file in files:\n",
        "    dist = sorting(file)\n",
        "    if dist:\n",
        "        try:\n",
        "\n",
        "            shutil.move(file,\"..\\download-sorting/ + dist\")\n",
        "        except:\n",
        "            print(file + \"is already exist\")\n",
        "    else:\n",
        "        try:\n",
        "            shutil.move(file, \"../download-sorting/ others\")\n",
        "        except:\n",
        "            print(file + \" is  alraedy exist\")"
      ],
      "metadata": {
        "colab": {
          "base_uri": "https://localhost:8080/",
          "height": 235
        },
        "id": "mhlpUHCu8u4Z",
        "outputId": "8f92c77b-5199-43d4-acb4-94ffdca2f42c"
      },
      "execution_count": null,
      "outputs": [
        {
          "output_type": "error",
          "ename": "FileNotFoundError",
          "evalue": "ignored",
          "traceback": [
            "\u001b[0;31m---------------------------------------------------------------------------\u001b[0m",
            "\u001b[0;31mFileNotFoundError\u001b[0m                         Traceback (most recent call last)",
            "\u001b[0;32m<ipython-input-27-e786b3c7b5de>\u001b[0m in \u001b[0;36m<cell line: 3>\u001b[0;34m()\u001b[0m\n\u001b[1;32m      1\u001b[0m \u001b[0;32mimport\u001b[0m \u001b[0mos\u001b[0m\u001b[0;34m\u001b[0m\u001b[0;34m\u001b[0m\u001b[0m\n\u001b[1;32m      2\u001b[0m \u001b[0;32mimport\u001b[0m \u001b[0mshutil\u001b[0m\u001b[0;34m\u001b[0m\u001b[0;34m\u001b[0m\u001b[0m\n\u001b[0;32m----> 3\u001b[0;31m \u001b[0mos\u001b[0m\u001b[0;34m.\u001b[0m\u001b[0mchdir\u001b[0m\u001b[0;34m(\u001b[0m\u001b[0;34m\"E:/content/Ritik Jwala (1).pdf\"\u001b[0m\u001b[0;34m)\u001b[0m\u001b[0;34m\u001b[0m\u001b[0;34m\u001b[0m\u001b[0m\n\u001b[0m\u001b[1;32m      4\u001b[0m \u001b[0;34m\u001b[0m\u001b[0m\n\u001b[1;32m      5\u001b[0m \u001b[0mfiles\u001b[0m \u001b[0;34m=\u001b[0m \u001b[0mos\u001b[0m\u001b[0;34m.\u001b[0m\u001b[0mlistdir\u001b[0m\u001b[0;34m(\u001b[0m\u001b[0;34m)\u001b[0m\u001b[0;34m\u001b[0m\u001b[0;34m\u001b[0m\u001b[0m\n",
            "\u001b[0;31mFileNotFoundError\u001b[0m: [Errno 2] No such file or directory: 'E:/content/Ritik Jwala (1).pdf'"
          ]
        }
      ]
    },
    {
      "cell_type": "markdown",
      "source": [
        "**10.Send Emails in Bulk From CSV File**"
      ],
      "metadata": {
        "id": "mbEpM4z1Pod9"
      }
    },
    {
      "cell_type": "code",
      "source": [
        "pip install inference-server"
      ],
      "metadata": {
        "colab": {
          "base_uri": "https://localhost:8080/"
        },
        "id": "zPIJZG0HVFc8",
        "outputId": "e67cb936-25ae-48cf-df66-e5910fa795fa"
      },
      "execution_count": null,
      "outputs": [
        {
          "output_type": "stream",
          "name": "stdout",
          "text": [
            "Looking in indexes: https://pypi.org/simple, https://us-python.pkg.dev/colab-wheels/public/simple/\n",
            "Collecting inference-server\n",
            "  Downloading inference_server-1.0.3-py3-none-any.whl (17 kB)\n",
            "Requirement already satisfied: pluggy~=1.0 in /usr/local/lib/python3.10/dist-packages (from inference-server) (1.0.0)\n",
            "Requirement already satisfied: werkzeug~=2.0 in /usr/local/lib/python3.10/dist-packages (from inference-server) (2.3.0)\n",
            "Requirement already satisfied: MarkupSafe>=2.1.1 in /usr/local/lib/python3.10/dist-packages (from werkzeug~=2.0->inference-server) (2.1.2)\n",
            "Installing collected packages: inference-server\n",
            "Successfully installed inference-server-1.0.3\n"
          ]
        }
      ]
    },
    {
      "cell_type": "code",
      "source": [
        "import csv\n",
        "from email.message import EmailMessage\n",
        "import smtplib\n",
        "\n",
        "def get_credentials(filepath):\n",
        "    with open(\"/content/sheet 1.csv\",\"r\") as f:\n",
        "         email_address = f.readline()\n",
        "         email_pass = f.readline()\n",
        "    return (email_address, email_pass)\n",
        "def login(Ritikjwala74@gmail.com,):\n",
        "    s.ehlo()\n",
        "    s.starttls()\n",
        "    s.ehlo()\n",
        "    s.login(email_address,email_pass)\n",
        "    print(\"login\")\n",
        "def send_mail():\n",
        "    s = smtplib.SMTP(\"smpt.gmail.com\",587)\n",
        "    email_address, email_pass = get_credentials(\"./credentials.txt\")\n",
        "    login(email_address,email_pass,s)\n",
        "    subject = \"Welcome to Python\"\n",
        "    body = \"\"\"Hello  this a Dummy Email\"\"\"\n",
        "    message = EmailMessage()\n",
        "    message.set_content(body)\n",
        "    message['Subject'] = subject\n",
        "\n",
        "    with open(\"Ritikjwala74@gmail.com\",newline=\"\") as csvfile:\n",
        "         spamreader = csv.reader(csvfile, defimiter=\" \", quotechar=\"|\")\n",
        "         for email in spamreader:\n",
        "             s.send_message(email_address, email[0],message)\n",
        "             print(\"Send To \" + email[0])\n",
        "\n",
        "    s.quit()\n",
        "    print(\"sent\")\n",
        "if __name__ ==\"__main__\":\n",
        "    send_mail()"
      ],
      "metadata": {
        "colab": {
          "base_uri": "https://localhost:8080/",
          "height": 345
        },
        "id": "B_xd_DxQ8u1p",
        "outputId": "4370818d-53dd-4f91-8708-7b087d7a3b42"
      },
      "execution_count": null,
      "outputs": [
        {
          "output_type": "error",
          "ename": "gaierror",
          "evalue": "ignored",
          "traceback": [
            "\u001b[0;31m---------------------------------------------------------------------------\u001b[0m",
            "\u001b[0;31mgaierror\u001b[0m                                  Traceback (most recent call last)",
            "\u001b[0;32m<ipython-input-1-a12c3432923a>\u001b[0m in \u001b[0;36m<cell line: 34>\u001b[0;34m()\u001b[0m\n\u001b[1;32m     33\u001b[0m     \u001b[0mprint\u001b[0m\u001b[0;34m(\u001b[0m\u001b[0;34m\"sent\"\u001b[0m\u001b[0;34m)\u001b[0m\u001b[0;34m\u001b[0m\u001b[0;34m\u001b[0m\u001b[0m\n\u001b[1;32m     34\u001b[0m \u001b[0;32mif\u001b[0m \u001b[0m__name__\u001b[0m \u001b[0;34m==\u001b[0m\u001b[0;34m\"__main__\"\u001b[0m\u001b[0;34m:\u001b[0m\u001b[0;34m\u001b[0m\u001b[0;34m\u001b[0m\u001b[0m\n\u001b[0;32m---> 35\u001b[0;31m     \u001b[0msend_mail\u001b[0m\u001b[0;34m(\u001b[0m\u001b[0;34m)\u001b[0m\u001b[0;34m\u001b[0m\u001b[0;34m\u001b[0m\u001b[0m\n\u001b[0m",
            "\u001b[0;32m<ipython-input-1-a12c3432923a>\u001b[0m in \u001b[0;36msend_mail\u001b[0;34m()\u001b[0m\n\u001b[1;32m     15\u001b[0m     \u001b[0mprint\u001b[0m\u001b[0;34m(\u001b[0m\u001b[0;34m\"login\"\u001b[0m\u001b[0;34m)\u001b[0m\u001b[0;34m\u001b[0m\u001b[0;34m\u001b[0m\u001b[0m\n\u001b[1;32m     16\u001b[0m \u001b[0;32mdef\u001b[0m \u001b[0msend_mail\u001b[0m\u001b[0;34m(\u001b[0m\u001b[0;34m)\u001b[0m\u001b[0;34m:\u001b[0m\u001b[0;34m\u001b[0m\u001b[0;34m\u001b[0m\u001b[0m\n\u001b[0;32m---> 17\u001b[0;31m     \u001b[0ms\u001b[0m \u001b[0;34m=\u001b[0m \u001b[0msmtplib\u001b[0m\u001b[0;34m.\u001b[0m\u001b[0mSMTP\u001b[0m\u001b[0;34m(\u001b[0m\u001b[0;34m\"smpt.gmail.com\"\u001b[0m\u001b[0;34m,\u001b[0m\u001b[0;36m587\u001b[0m\u001b[0;34m)\u001b[0m\u001b[0;34m\u001b[0m\u001b[0;34m\u001b[0m\u001b[0m\n\u001b[0m\u001b[1;32m     18\u001b[0m     \u001b[0memail_address\u001b[0m\u001b[0;34m,\u001b[0m \u001b[0memail_pass\u001b[0m \u001b[0;34m=\u001b[0m \u001b[0mget_credentials\u001b[0m\u001b[0;34m(\u001b[0m\u001b[0;34m\"./credentials.txt\"\u001b[0m\u001b[0;34m)\u001b[0m\u001b[0;34m\u001b[0m\u001b[0;34m\u001b[0m\u001b[0m\n\u001b[1;32m     19\u001b[0m     \u001b[0mlogin\u001b[0m\u001b[0;34m(\u001b[0m\u001b[0memail_address\u001b[0m\u001b[0;34m,\u001b[0m\u001b[0memail_pass\u001b[0m\u001b[0;34m,\u001b[0m\u001b[0ms\u001b[0m\u001b[0;34m)\u001b[0m\u001b[0;34m\u001b[0m\u001b[0;34m\u001b[0m\u001b[0m\n",
            "\u001b[0;32m/usr/lib/python3.10/smtplib.py\u001b[0m in \u001b[0;36m__init__\u001b[0;34m(self, host, port, local_hostname, timeout, source_address)\u001b[0m\n\u001b[1;32m    253\u001b[0m \u001b[0;34m\u001b[0m\u001b[0m\n\u001b[1;32m    254\u001b[0m         \u001b[0;32mif\u001b[0m \u001b[0mhost\u001b[0m\u001b[0;34m:\u001b[0m\u001b[0;34m\u001b[0m\u001b[0;34m\u001b[0m\u001b[0m\n\u001b[0;32m--> 255\u001b[0;31m             \u001b[0;34m(\u001b[0m\u001b[0mcode\u001b[0m\u001b[0;34m,\u001b[0m \u001b[0mmsg\u001b[0m\u001b[0;34m)\u001b[0m \u001b[0;34m=\u001b[0m \u001b[0mself\u001b[0m\u001b[0;34m.\u001b[0m\u001b[0mconnect\u001b[0m\u001b[0;34m(\u001b[0m\u001b[0mhost\u001b[0m\u001b[0;34m,\u001b[0m \u001b[0mport\u001b[0m\u001b[0;34m)\u001b[0m\u001b[0;34m\u001b[0m\u001b[0;34m\u001b[0m\u001b[0m\n\u001b[0m\u001b[1;32m    256\u001b[0m             \u001b[0;32mif\u001b[0m \u001b[0mcode\u001b[0m \u001b[0;34m!=\u001b[0m \u001b[0;36m220\u001b[0m\u001b[0;34m:\u001b[0m\u001b[0;34m\u001b[0m\u001b[0;34m\u001b[0m\u001b[0m\n\u001b[1;32m    257\u001b[0m                 \u001b[0mself\u001b[0m\u001b[0;34m.\u001b[0m\u001b[0mclose\u001b[0m\u001b[0;34m(\u001b[0m\u001b[0;34m)\u001b[0m\u001b[0;34m\u001b[0m\u001b[0;34m\u001b[0m\u001b[0m\n",
            "\u001b[0;32m/usr/lib/python3.10/smtplib.py\u001b[0m in \u001b[0;36mconnect\u001b[0;34m(self, host, port, source_address)\u001b[0m\n\u001b[1;32m    339\u001b[0m             \u001b[0mport\u001b[0m \u001b[0;34m=\u001b[0m \u001b[0mself\u001b[0m\u001b[0;34m.\u001b[0m\u001b[0mdefault_port\u001b[0m\u001b[0;34m\u001b[0m\u001b[0;34m\u001b[0m\u001b[0m\n\u001b[1;32m    340\u001b[0m         \u001b[0msys\u001b[0m\u001b[0;34m.\u001b[0m\u001b[0maudit\u001b[0m\u001b[0;34m(\u001b[0m\u001b[0;34m\"smtplib.connect\"\u001b[0m\u001b[0;34m,\u001b[0m \u001b[0mself\u001b[0m\u001b[0;34m,\u001b[0m \u001b[0mhost\u001b[0m\u001b[0;34m,\u001b[0m \u001b[0mport\u001b[0m\u001b[0;34m)\u001b[0m\u001b[0;34m\u001b[0m\u001b[0;34m\u001b[0m\u001b[0m\n\u001b[0;32m--> 341\u001b[0;31m         \u001b[0mself\u001b[0m\u001b[0;34m.\u001b[0m\u001b[0msock\u001b[0m \u001b[0;34m=\u001b[0m \u001b[0mself\u001b[0m\u001b[0;34m.\u001b[0m\u001b[0m_get_socket\u001b[0m\u001b[0;34m(\u001b[0m\u001b[0mhost\u001b[0m\u001b[0;34m,\u001b[0m \u001b[0mport\u001b[0m\u001b[0;34m,\u001b[0m \u001b[0mself\u001b[0m\u001b[0;34m.\u001b[0m\u001b[0mtimeout\u001b[0m\u001b[0;34m)\u001b[0m\u001b[0;34m\u001b[0m\u001b[0;34m\u001b[0m\u001b[0m\n\u001b[0m\u001b[1;32m    342\u001b[0m         \u001b[0mself\u001b[0m\u001b[0;34m.\u001b[0m\u001b[0mfile\u001b[0m \u001b[0;34m=\u001b[0m \u001b[0;32mNone\u001b[0m\u001b[0;34m\u001b[0m\u001b[0;34m\u001b[0m\u001b[0m\n\u001b[1;32m    343\u001b[0m         \u001b[0;34m(\u001b[0m\u001b[0mcode\u001b[0m\u001b[0;34m,\u001b[0m \u001b[0mmsg\u001b[0m\u001b[0;34m)\u001b[0m \u001b[0;34m=\u001b[0m \u001b[0mself\u001b[0m\u001b[0;34m.\u001b[0m\u001b[0mgetreply\u001b[0m\u001b[0;34m(\u001b[0m\u001b[0;34m)\u001b[0m\u001b[0;34m\u001b[0m\u001b[0;34m\u001b[0m\u001b[0m\n",
            "\u001b[0;32m/usr/lib/python3.10/smtplib.py\u001b[0m in \u001b[0;36m_get_socket\u001b[0;34m(self, host, port, timeout)\u001b[0m\n\u001b[1;32m    310\u001b[0m         \u001b[0;32mif\u001b[0m \u001b[0mself\u001b[0m\u001b[0;34m.\u001b[0m\u001b[0mdebuglevel\u001b[0m \u001b[0;34m>\u001b[0m \u001b[0;36m0\u001b[0m\u001b[0;34m:\u001b[0m\u001b[0;34m\u001b[0m\u001b[0;34m\u001b[0m\u001b[0m\n\u001b[1;32m    311\u001b[0m             \u001b[0mself\u001b[0m\u001b[0;34m.\u001b[0m\u001b[0m_print_debug\u001b[0m\u001b[0;34m(\u001b[0m\u001b[0;34m'connect: to'\u001b[0m\u001b[0;34m,\u001b[0m \u001b[0;34m(\u001b[0m\u001b[0mhost\u001b[0m\u001b[0;34m,\u001b[0m \u001b[0mport\u001b[0m\u001b[0;34m)\u001b[0m\u001b[0;34m,\u001b[0m \u001b[0mself\u001b[0m\u001b[0;34m.\u001b[0m\u001b[0msource_address\u001b[0m\u001b[0;34m)\u001b[0m\u001b[0;34m\u001b[0m\u001b[0;34m\u001b[0m\u001b[0m\n\u001b[0;32m--> 312\u001b[0;31m         return socket.create_connection((host, port), timeout,\n\u001b[0m\u001b[1;32m    313\u001b[0m                                         self.source_address)\n\u001b[1;32m    314\u001b[0m \u001b[0;34m\u001b[0m\u001b[0m\n",
            "\u001b[0;32m/usr/lib/python3.10/socket.py\u001b[0m in \u001b[0;36mcreate_connection\u001b[0;34m(address, timeout, source_address)\u001b[0m\n\u001b[1;32m    822\u001b[0m     \u001b[0mhost\u001b[0m\u001b[0;34m,\u001b[0m \u001b[0mport\u001b[0m \u001b[0;34m=\u001b[0m \u001b[0maddress\u001b[0m\u001b[0;34m\u001b[0m\u001b[0;34m\u001b[0m\u001b[0m\n\u001b[1;32m    823\u001b[0m     \u001b[0merr\u001b[0m \u001b[0;34m=\u001b[0m \u001b[0;32mNone\u001b[0m\u001b[0;34m\u001b[0m\u001b[0;34m\u001b[0m\u001b[0m\n\u001b[0;32m--> 824\u001b[0;31m     \u001b[0;32mfor\u001b[0m \u001b[0mres\u001b[0m \u001b[0;32min\u001b[0m \u001b[0mgetaddrinfo\u001b[0m\u001b[0;34m(\u001b[0m\u001b[0mhost\u001b[0m\u001b[0;34m,\u001b[0m \u001b[0mport\u001b[0m\u001b[0;34m,\u001b[0m \u001b[0;36m0\u001b[0m\u001b[0;34m,\u001b[0m \u001b[0mSOCK_STREAM\u001b[0m\u001b[0;34m)\u001b[0m\u001b[0;34m:\u001b[0m\u001b[0;34m\u001b[0m\u001b[0;34m\u001b[0m\u001b[0m\n\u001b[0m\u001b[1;32m    825\u001b[0m         \u001b[0maf\u001b[0m\u001b[0;34m,\u001b[0m \u001b[0msocktype\u001b[0m\u001b[0;34m,\u001b[0m \u001b[0mproto\u001b[0m\u001b[0;34m,\u001b[0m \u001b[0mcanonname\u001b[0m\u001b[0;34m,\u001b[0m \u001b[0msa\u001b[0m \u001b[0;34m=\u001b[0m \u001b[0mres\u001b[0m\u001b[0;34m\u001b[0m\u001b[0;34m\u001b[0m\u001b[0m\n\u001b[1;32m    826\u001b[0m         \u001b[0msock\u001b[0m \u001b[0;34m=\u001b[0m \u001b[0;32mNone\u001b[0m\u001b[0;34m\u001b[0m\u001b[0;34m\u001b[0m\u001b[0m\n",
            "\u001b[0;32m/usr/lib/python3.10/socket.py\u001b[0m in \u001b[0;36mgetaddrinfo\u001b[0;34m(host, port, family, type, proto, flags)\u001b[0m\n\u001b[1;32m    953\u001b[0m     \u001b[0;31m# and socket type values to enum constants.\u001b[0m\u001b[0;34m\u001b[0m\u001b[0;34m\u001b[0m\u001b[0m\n\u001b[1;32m    954\u001b[0m     \u001b[0maddrlist\u001b[0m \u001b[0;34m=\u001b[0m \u001b[0;34m[\u001b[0m\u001b[0;34m]\u001b[0m\u001b[0;34m\u001b[0m\u001b[0;34m\u001b[0m\u001b[0m\n\u001b[0;32m--> 955\u001b[0;31m     \u001b[0;32mfor\u001b[0m \u001b[0mres\u001b[0m \u001b[0;32min\u001b[0m \u001b[0m_socket\u001b[0m\u001b[0;34m.\u001b[0m\u001b[0mgetaddrinfo\u001b[0m\u001b[0;34m(\u001b[0m\u001b[0mhost\u001b[0m\u001b[0;34m,\u001b[0m \u001b[0mport\u001b[0m\u001b[0;34m,\u001b[0m \u001b[0mfamily\u001b[0m\u001b[0;34m,\u001b[0m \u001b[0mtype\u001b[0m\u001b[0;34m,\u001b[0m \u001b[0mproto\u001b[0m\u001b[0;34m,\u001b[0m \u001b[0mflags\u001b[0m\u001b[0;34m)\u001b[0m\u001b[0;34m:\u001b[0m\u001b[0;34m\u001b[0m\u001b[0;34m\u001b[0m\u001b[0m\n\u001b[0m\u001b[1;32m    956\u001b[0m         \u001b[0maf\u001b[0m\u001b[0;34m,\u001b[0m \u001b[0msocktype\u001b[0m\u001b[0;34m,\u001b[0m \u001b[0mproto\u001b[0m\u001b[0;34m,\u001b[0m \u001b[0mcanonname\u001b[0m\u001b[0;34m,\u001b[0m \u001b[0msa\u001b[0m \u001b[0;34m=\u001b[0m \u001b[0mres\u001b[0m\u001b[0;34m\u001b[0m\u001b[0;34m\u001b[0m\u001b[0m\n\u001b[1;32m    957\u001b[0m         addrlist.append((_intenum_converter(af, AddressFamily),\n",
            "\u001b[0;31mgaierror\u001b[0m: [Errno -2] Name or service not known"
          ]
        }
      ]
    },
    {
      "cell_type": "markdown",
      "source": [
        "11. Get the IP Address and Hostname of A Website\n"
      ],
      "metadata": {
        "id": "1gOApH16ug63"
      }
    },
    {
      "cell_type": "code",
      "source": [
        "import socket\n",
        "def get_hostname_IP():\n",
        " hostname = input(\"Please enter website address(URL):\")\n",
        " try:\n",
        " print (f'Hostname: {hostname}')\n",
        " print (f'IP: {socket.gethostbyname(hostname)}')\n",
        " except socket.gaierror as error:\n",
        " print (f'Invalid Hostname, error raised is {error}')\n",
        "\n",
        " get_hostname_IP()\n"
      ],
      "metadata": {
        "id": "BlJM2-lZ8uxs",
        "colab": {
          "base_uri": "https://localhost:8080/",
          "height": 130
        },
        "outputId": "c3d38025-2f39-444c-bb1d-6b4a7f9b9328"
      },
      "execution_count": 1,
      "outputs": [
        {
          "output_type": "error",
          "ename": "IndentationError",
          "evalue": "ignored",
          "traceback": [
            "\u001b[0;36m  File \u001b[0;32m\"<ipython-input-1-9efa6b56b5f9>\"\u001b[0;36m, line \u001b[0;32m5\u001b[0m\n\u001b[0;31m    print (f'Hostname: {hostname}')\u001b[0m\n\u001b[0m    ^\u001b[0m\n\u001b[0;31mIndentationError\u001b[0m\u001b[0;31m:\u001b[0m expected an indented block after 'try' statement on line 4\n"
          ]
        }
      ]
    },
    {
      "cell_type": "markdown",
      "source": [
        "12. Terminal Progress Bar\n"
      ],
      "metadata": {
        "id": "PlkaiFE_0yYh"
      }
    },
    {
      "cell_type": "code",
      "source": [
        "pip install tqdm\n"
      ],
      "metadata": {
        "id": "atkg7a538uus",
        "colab": {
          "base_uri": "https://localhost:8080/"
        },
        "outputId": "020e955f-fc19-4fc2-bfb4-4487991e6a62"
      },
      "execution_count": 2,
      "outputs": [
        {
          "output_type": "stream",
          "name": "stdout",
          "text": [
            "Looking in indexes: https://pypi.org/simple, https://us-python.pkg.dev/colab-wheels/public/simple/\n",
            "Requirement already satisfied: tqdm in /usr/local/lib/python3.10/dist-packages (4.65.0)\n"
          ]
        }
      ]
    },
    {
      "cell_type": "code",
      "execution_count": 3,
      "metadata": {
        "id": "Wmn1cApHSMcD",
        "colab": {
          "base_uri": "https://localhost:8080/"
        },
        "outputId": "2f259e64-ebf9-4b4b-c9ba-b5aa18b281f6"
      },
      "outputs": [
        {
          "output_type": "stream",
          "name": "stdout",
          "text": [
            "Looking in indexes: https://pypi.org/simple, https://us-python.pkg.dev/colab-wheels/public/simple/\n",
            "Requirement already satisfied: Pillow in /usr/local/lib/python3.10/dist-packages (8.4.0)\n"
          ]
        }
      ],
      "source": [
        "pip install Pillow\n"
      ]
    },
    {
      "cell_type": "code",
      "execution_count": 4,
      "metadata": {
        "id": "F7DDNqBzSMZt",
        "colab": {
          "base_uri": "https://localhost:8080/",
          "height": 130
        },
        "outputId": "fcf21f21-6b52-40d6-9f15-5031cff99858"
      },
      "outputs": [
        {
          "output_type": "error",
          "ename": "IndentationError",
          "evalue": "ignored",
          "traceback": [
            "\u001b[0;36m  File \u001b[0;32m\"<ipython-input-4-3507ddcccb5e>\"\u001b[0;36m, line \u001b[0;32m7\u001b[0m\n\u001b[0;31m    try:\u001b[0m\n\u001b[0m    ^\u001b[0m\n\u001b[0;31mIndentationError\u001b[0m\u001b[0;31m:\u001b[0m expected an indented block after 'if' statement on line 6\n"
          ]
        }
      ],
      "source": [
        "from tqdm import tqdm\n",
        "from PIL import Image\n",
        "import os\n",
        "from time import sleep\n",
        "def Resize_image(size, image):\n",
        " if os.path.isfile(image):\n",
        "    try:\n",
        " im = Image.open(image)\n",
        " im.thumbnail(size, Image.ANTIALIAS)\n",
        " im.save(\"resize/\" + str(image) + \".jpg\")\n",
        "    except Exception as ex:\n",
        " print(f\"Error: {str(ex)} to {image}\")\n",
        "path = input(\"Enter Path to images : \")\n",
        "size = input(\"Size Height , Width : \")\n",
        "size = tuple(map(int, size.split(\",\")))\n",
        "os.chdir(path)\n",
        "list_images = os.listdir(path)\n",
        "if \"resize\" not in list_images:\n",
        " os.mkdir(\"resize\")\n",
        "for image in tqdm(list_images, desc=\"Resizing Images\"):\n",
        " Resize_image(size, image)\n",
        " sleep(0.1)\n",
        "print(\"Resizing Completed!\")\n"
      ]
    },
    {
      "cell_type": "markdown",
      "source": [
        "**13. Wifi Password Ejector**"
      ],
      "metadata": {
        "id": "BxxbZtgV1khW"
      }
    },
    {
      "cell_type": "code",
      "source": [
        "import subprocess\n",
        "data = (\n",
        " subprocess.check_output([\"netsh\", \"wlan\", \"show\", \"profiles\"])\n",
        " .decode(\"utf-8\")\n",
        " .split(\"\\n\")\n",
        ")\n",
        "profiles = [i.split(\":\")[1][1:-1] for i in data if \"All User Profile\" in i]\n",
        "for i in profiles:\n",
        " results = (\n",
        " subprocess\n",
        " .check_output([\"netsh\", \"wlan\", \"show\", \"profile\", i, \"key=clear\"])\n",
        " .decode(\"utf-8\")\n",
        " .split(\"\\n\")\n",
        " )\n",
        " results = [b.split(\":\")[1][1:-1] for b in results if \"Key Content\" in\n",
        "b]\n",
        "try:\n",
        " print(\"{:<30}| {:<}\".format(i, results[0]))\n",
        " except IndexError:\n",
        " print(\"{:<30}| {:<}\".format(i, \"\"))"
      ],
      "metadata": {
        "colab": {
          "base_uri": "https://localhost:8080/",
          "height": 130
        },
        "id": "bsCRZOTl1ubi",
        "outputId": "4b81b83e-7720-4fb0-8950-1f0c74e70b04"
      },
      "execution_count": 5,
      "outputs": [
        {
          "output_type": "error",
          "ename": "IndentationError",
          "evalue": "ignored",
          "traceback": [
            "\u001b[0;36m  File \u001b[0;32m\"<ipython-input-5-d85a58da46ff>\"\u001b[0;36m, line \u001b[0;32m18\u001b[0m\n\u001b[0;31m    print(\"{:<30}| {:<}\".format(i, results[0]))\u001b[0m\n\u001b[0m    ^\u001b[0m\n\u001b[0;31mIndentationError\u001b[0m\u001b[0;31m:\u001b[0m expected an indented block after 'try' statement on line 17\n"
          ]
        }
      ]
    },
    {
      "cell_type": "markdown",
      "source": [
        "**14. Snapshot of The Given Website\n",
        "**"
      ],
      "metadata": {
        "id": "VS7bS4O22Giw"
      }
    },
    {
      "cell_type": "code",
      "source": [
        "pip install selenium\n",
        "pip install chromedriver-binary==XX.X.XXXX.XX.X"
      ],
      "metadata": {
        "colab": {
          "base_uri": "https://localhost:8080/",
          "height": 130
        },
        "id": "6fjtL8Jo1uY7",
        "outputId": "5ea6afa2-2e0c-4d82-bae2-a84bd53dad2e"
      },
      "execution_count": 6,
      "outputs": [
        {
          "output_type": "error",
          "ename": "SyntaxError",
          "evalue": "ignored",
          "traceback": [
            "\u001b[0;36m  File \u001b[0;32m\"<ipython-input-6-1fff664adbfd>\"\u001b[0;36m, line \u001b[0;32m1\u001b[0m\n\u001b[0;31m    pip install selenium\u001b[0m\n\u001b[0m        ^\u001b[0m\n\u001b[0;31mSyntaxError\u001b[0m\u001b[0;31m:\u001b[0m invalid syntax\n"
          ]
        }
      ]
    },
    {
      "cell_type": "code",
      "source": [
        "import sys\n",
        "from selenium import webdriver\n",
        "from selenium.webdriver.chrome.options import Options\n",
        "import chromedriver_binary\n",
        "script_name = sys.argv[0]\n",
        "options = Options()\n",
        "options.add_argument('--headless')\n",
        "driver = webdriver.Chrome(options=options)\n",
        "try\n",
        "url = sys.argv[1]\n",
        " driver.get(url)\n",
        " page_width = driver.execute_script('return document.body.scrollWidth')\n",
        " page_height = driver.execute_script('return\n",
        "document.body.scrollHeight')\n",
        " driver.set_window_size(page_width, page_height)\n",
        " driver.save_screenshot('screenshot.png')\n",
        " driver.quit()\n",
        " print(\"SUCCESS\")\n",
        "except IndexError:\n",
        " print('Usage: %s URL' % script_name)"
      ],
      "metadata": {
        "colab": {
          "base_uri": "https://localhost:8080/",
          "height": 130
        },
        "id": "ExfdOzGU1uWw",
        "outputId": "616f1c6d-c642-4f76-f797-777a94c1df44"
      },
      "execution_count": 7,
      "outputs": [
        {
          "output_type": "error",
          "ename": "SyntaxError",
          "evalue": "ignored",
          "traceback": [
            "\u001b[0;36m  File \u001b[0;32m\"<ipython-input-7-da762f7d413d>\"\u001b[0;36m, line \u001b[0;32m13\u001b[0m\n\u001b[0;31m    page_height = driver.execute_script('return\u001b[0m\n\u001b[0m                                        ^\u001b[0m\n\u001b[0;31mSyntaxError\u001b[0m\u001b[0;31m:\u001b[0m unterminated string literal (detected at line 13)\n"
          ]
        }
      ]
    },
    {
      "cell_type": "markdown",
      "source": [
        "**15. Split Files Into Chunks\n",
        "**"
      ],
      "metadata": {
        "id": "FLkZ-OHA2-YR"
      }
    },
    {
      "cell_type": "code",
      "source": [
        "import sys\n",
        "import os\n",
        "import shutil\n",
        "import pandas as pd\n",
        "class Split_Files:\n",
        " '''\n",
        " Class file for split file program\n",
        " '''\n",
        " def __init__(self, filename, split_number):\n",
        " '''\n",
        " Getting the file name and the split index\n",
        " Initializing the output directory, if present then truncate it.\n",
        " Getting the file extension\n",
        " '''\n",
        " self.file_name = filename\n",
        " self.directory = \"file_split\"\n",
        " self.split = int(split_number)\n",
        " if os.path.exists(self.directory):\n",
        " shutil.rmtree(self.directory)\n",
        " os.mkdir(self.directory)\n",
        " if self.file_name.endswith('.txt'):\n",
        " self.file_extension = '.txt'\n",
        " else:\n",
        " self.file_extension = '.csv'\n",
        " self.file_number = 1\n",
        " def split_data(self):\n",
        " '''\n",
        " spliting the input csv/txt file according to the index provided\n",
        " '''\n",
        " data = pd.read_csv(self.file_name, header=None)\n",
        " data.index += 1\n",
        "split_frame = pd.DataFrame()\n",
        " output_file = f\"{self.directory}/split_file{self.file_number}\n",
        "{self.file_extension}\"\n",
        " for i in range(1, len(data)+1):\n",
        " split_frame = split_frame.append(data.iloc[i-1])\n",
        " if i % self.split == 0:\n",
        " output_file = f\"\n",
        "{self.directory}/split_file{self.file_number}{self.file_extension}\"\n",
        " if self.file_extension == '.txt':\n",
        " split_frame.to_csv(output_file, header=False,\n",
        "index=False, sep=' ')\n",
        " else:\n",
        " split_frame.to_csv(output_file, header=False,\n",
        "index=False)\n",
        " split_frame.drop(split_frame.index, inplace=True)\n",
        " self.file_number += 1\n",
        " if not split_frame.empty:\n",
        " output_file = f\"{self.directory}/split_file{self.file_number}\n",
        "{self.file_extension}\"\n",
        " split_frame.to_csv(output_file, header=False, index=False)\n",
        "if __name__ == '__main__':\n",
        " file, split_number = sys.argv[1], sys.argv[2]\n",
        " sp = Split_Files(file, split_number)\n",
        " sp.split_data()"
      ],
      "metadata": {
        "colab": {
          "base_uri": "https://localhost:8080/",
          "height": 130
        },
        "id": "Ij3uO6Ig1uRN",
        "outputId": "2ed3dd34-ff30-4abb-b23e-d7dd56270ce8"
      },
      "execution_count": 8,
      "outputs": [
        {
          "output_type": "error",
          "ename": "SyntaxError",
          "evalue": "ignored",
          "traceback": [
            "\u001b[0;36m  File \u001b[0;32m\"<ipython-input-8-fff11ad7f1f0>\"\u001b[0;36m, line \u001b[0;32m33\u001b[0m\n\u001b[0;31m    output_file = f\"{self.directory}/split_file{self.file_number}\u001b[0m\n\u001b[0m                  ^\u001b[0m\n\u001b[0;31mSyntaxError\u001b[0m\u001b[0;31m:\u001b[0m unterminated string literal (detected at line 33)\n"
          ]
        }
      ]
    },
    {
      "cell_type": "markdown",
      "source": [
        "**16. Encrypt and Decrypt Texts**"
      ],
      "metadata": {
        "id": "7ixf3pz834R3"
      }
    },
    {
      "cell_type": "code",
      "source": [
        "from Crypto.Cipher import AES\n",
        "from Crypto import Random\n",
        "from binascii import b2a_hex\n",
        "import sys\n",
        "plain_text = sys.argv[1]\n",
        "\n",
        "key = b'this is a 16 key'\n",
        "\n",
        "iv = Random.new().read(AES.block_size)\n",
        "mycipher = AES.new(key, AES.MODE_CFB, iv)\n",
        "\n",
        "ciphertext = iv + mycipher.encrypt(plain_text.encode())\n",
        "\n",
        "mydecrypt = AES.new(key, AES.MODE_CFB, ciphertext[:16])\n",
        "\n",
        "decrypttext = mydecrypt.decrypt(ciphertext[16:])\n",
        "\n",
        "file_out = open(\"encrypted.bin\", \"wb\")\n",
        "file_out.write(ciphertext[16:])\n",
        "file_out.close()\n",
        "print(\"The key k is: \", key)\n",
        "print(\"iv is: \", b2a_hex(ciphertext)[:16])\n",
        "print(\"The encrypted data is: \", b2a_hex(ciphertext)[16:])\n",
        "print(\"The decrypted data is: \", decrypttext.decode())\n"
      ],
      "metadata": {
        "colab": {
          "base_uri": "https://localhost:8080/",
          "height": 373
        },
        "id": "9Soh37xT1uOy",
        "outputId": "2aacf660-df3f-4e77-923a-d0a39a4bab3b"
      },
      "execution_count": 9,
      "outputs": [
        {
          "output_type": "error",
          "ename": "ModuleNotFoundError",
          "evalue": "ignored",
          "traceback": [
            "\u001b[0;31m---------------------------------------------------------------------------\u001b[0m",
            "\u001b[0;31mModuleNotFoundError\u001b[0m                       Traceback (most recent call last)",
            "\u001b[0;32m<ipython-input-9-689356a5583f>\u001b[0m in \u001b[0;36m<cell line: 1>\u001b[0;34m()\u001b[0m\n\u001b[0;32m----> 1\u001b[0;31m \u001b[0;32mfrom\u001b[0m \u001b[0mCrypto\u001b[0m\u001b[0;34m.\u001b[0m\u001b[0mCipher\u001b[0m \u001b[0;32mimport\u001b[0m \u001b[0mAES\u001b[0m\u001b[0;34m\u001b[0m\u001b[0;34m\u001b[0m\u001b[0m\n\u001b[0m\u001b[1;32m      2\u001b[0m \u001b[0;32mfrom\u001b[0m \u001b[0mCrypto\u001b[0m \u001b[0;32mimport\u001b[0m \u001b[0mRandom\u001b[0m\u001b[0;34m\u001b[0m\u001b[0;34m\u001b[0m\u001b[0m\n\u001b[1;32m      3\u001b[0m \u001b[0;32mfrom\u001b[0m \u001b[0mbinascii\u001b[0m \u001b[0;32mimport\u001b[0m \u001b[0mb2a_hex\u001b[0m\u001b[0;34m\u001b[0m\u001b[0;34m\u001b[0m\u001b[0m\n\u001b[1;32m      4\u001b[0m \u001b[0;32mimport\u001b[0m \u001b[0msys\u001b[0m\u001b[0;34m\u001b[0m\u001b[0;34m\u001b[0m\u001b[0m\n\u001b[1;32m      5\u001b[0m \u001b[0mplain_text\u001b[0m \u001b[0;34m=\u001b[0m \u001b[0msys\u001b[0m\u001b[0;34m.\u001b[0m\u001b[0margv\u001b[0m\u001b[0;34m[\u001b[0m\u001b[0;36m1\u001b[0m\u001b[0;34m]\u001b[0m\u001b[0;34m\u001b[0m\u001b[0;34m\u001b[0m\u001b[0m\n",
            "\u001b[0;31mModuleNotFoundError\u001b[0m: No module named 'Crypto'",
            "",
            "\u001b[0;31m---------------------------------------------------------------------------\u001b[0;32m\nNOTE: If your import is failing due to a missing package, you can\nmanually install dependencies using either !pip or !apt.\n\nTo view examples of installing some common dependencies, click the\n\"Open Examples\" button below.\n\u001b[0;31m---------------------------------------------------------------------------\u001b[0m\n"
          ],
          "errorDetails": {
            "actions": [
              {
                "action": "open_url",
                "actionText": "Open Examples",
                "url": "/notebooks/snippets/importing_libraries.ipynb"
              }
            ]
          }
        }
      ]
    },
    {
      "cell_type": "markdown",
      "source": [
        "**17. Capture Screenshots At Regular Intervals of Time**"
      ],
      "metadata": {
        "id": "_G3PdJrF4rJe"
      }
    },
    {
      "cell_type": "code",
      "source": [
        "import os\n",
        "import argparse\n",
        "import pyautogui\n",
        "import time\n",
        "parser = argparse.ArgumentParser()\n",
        "parser.add_argument(\"-p\", \"--path\", help=\"absolute path to store\n",
        "screenshot.\", default=r\"./images\")\n",
        "parser.add_argument(\"-t\", \"--type\", help=\"h (in hour) or m (in minutes) or\n",
        "s (in seconds)\", default='h')\n",
        "parser.add_argument(\"-f\", \"--frequency\", help=\"frequency for taking\n",
        "screenshot per h/m/s.\", default=1, type=int)\n",
        "args = parser.parse_args()\n",
        "sec = 0.\n",
        "if args.type == 'h':\n",
        " sec = 60 * 60 / args.frequency\n",
        "elif args.type == 'm':\n",
        " sec = 60 / args.frequency\n",
        "if sec < 1.:\n",
        "\n",
        "sec = 1.\n",
        "\n",
        "if os.path.isdir(args.path) != True:\n",
        " os.mkdir(args.path)\n",
        "try:\n",
        " while True:\n",
        " t = time.localtime()\n",
        " current_time = time.strftime(\"%H_%M_%S\", t)\n",
        " file = current_time + \".jpg\"\n",
        " image = pyautogui.screenshot(os.path.join(args.path,file))\n",
        " print(f\"{file} saved successfully.\\n\")\n",
        " time.sleep(sec)\n",
        "\n",
        "except KeyboardInterrupt:\n",
        " print(\"End of script by user interrupt\")"
      ],
      "metadata": {
        "colab": {
          "base_uri": "https://localhost:8080/",
          "height": 130
        },
        "id": "CT7KVTFZ1uL7",
        "outputId": "101f034f-14a3-457b-bc79-88c163d83dd3"
      },
      "execution_count": 10,
      "outputs": [
        {
          "output_type": "error",
          "ename": "SyntaxError",
          "evalue": "ignored",
          "traceback": [
            "\u001b[0;36m  File \u001b[0;32m\"<ipython-input-10-84462a0659c1>\"\u001b[0;36m, line \u001b[0;32m6\u001b[0m\n\u001b[0;31m    parser.add_argument(\"-p\", \"--path\", help=\"absolute path to store\u001b[0m\n\u001b[0m                                             ^\u001b[0m\n\u001b[0;31mSyntaxError\u001b[0m\u001b[0;31m:\u001b[0m unterminated string literal (detected at line 6)\n"
          ]
        }
      ]
    },
    {
      "cell_type": "markdown",
      "source": [
        "**18. Decimal to Binary converter**"
      ],
      "metadata": {
        "id": "g3-MXeT65GZg"
      }
    },
    {
      "cell_type": "code",
      "source": [
        "try:\n",
        " menu = int(input(\"Choose an option: \\n 1. Decimal to binary \\n\n",
        " Binary to decimal\\n Option: \"))\n",
        " if menu < 1 or menu > 2:\n",
        " raise ValueError\n",
        " if menu == 1:\n",
        " dec = int(input(\"Input your decimal number:\\nDecimal: \"))\n",
        " print(\"Binary: {}\".format(bin(dec)[2:]))\n",
        " elif menu == 2:\n",
        " binary = input(\"Input your binary number:\\n Binary: \")\n",
        " print(\"Decimal: {}\".format(int(binary, 2)))\n",
        "except ValueError:\n",
        " print (\"please choose a valid option\")\n"
      ],
      "metadata": {
        "colab": {
          "base_uri": "https://localhost:8080/",
          "height": 130
        },
        "id": "O-gWniWF1uIr",
        "outputId": "22009ee9-6c59-4d32-e78f-431415d8f7f5"
      },
      "execution_count": 15,
      "outputs": [
        {
          "output_type": "error",
          "ename": "SyntaxError",
          "evalue": "ignored",
          "traceback": [
            "\u001b[0;36m  File \u001b[0;32m\"<ipython-input-15-79811a86e7d8>\"\u001b[0;36m, line \u001b[0;32m2\u001b[0m\n\u001b[0;31m    menu = int(input(\"Choose an option: \\n 1. Decimal to binary \\n\u001b[0m\n\u001b[0m                     ^\u001b[0m\n\u001b[0;31mSyntaxError\u001b[0m\u001b[0;31m:\u001b[0m unterminated string literal (detected at line 2)\n"
          ]
        }
      ]
    },
    {
      "cell_type": "markdown",
      "source": [
        "**19. CLI Todo App\n",
        "**"
      ],
      "metadata": {
        "id": "zrkxTG0Z5WS9"
      }
    },
    {
      "cell_type": "code",
      "source": [
        "pip install click"
      ],
      "metadata": {
        "colab": {
          "base_uri": "https://localhost:8080/"
        },
        "id": "YZOg0Usf1uEu",
        "outputId": "3762f196-47ee-451c-d60a-75c3ac836b05"
      },
      "execution_count": 16,
      "outputs": [
        {
          "output_type": "stream",
          "name": "stdout",
          "text": [
            "Looking in indexes: https://pypi.org/simple, https://us-python.pkg.dev/colab-wheels/public/simple/\n",
            "Requirement already satisfied: click in /usr/local/lib/python3.10/dist-packages (8.1.3)\n"
          ]
        }
      ]
    },
    {
      "cell_type": "code",
      "source": [
        "import click\n",
        "@click.group()\n",
        "@click.pass_context\n",
        "def todo(ctx):\n",
        " '''Simple CLI Todo App'''\n",
        " ctx.ensure_object(dict)\n",
        "IDs\n",
        " with open('./todo.txt') as f:\n",
        " content = f.readlines()\n",
        " ctx.obj['LATEST'] = int(content[:1][0])\n",
        " ctx.obj['TASKS'] = {en.split('```')[0]:en.split('```')[1][:-1] for en\n",
        "in content[1:]}\n",
        "@todo.command()\n",
        "@click.pass_context\n",
        "def tasks(ctx):\n",
        " '''Display tasks'''\n",
        " if ctx.obj['TASKS']:\n",
        " click.echo('YOUR TASKS\\n**********')\n",
        " for i, task in ctx.obj['TASKS'].items():\n",
        " click.echo('• ' + task + ' (ID: ' + i + ')')\n",
        " click.echo('')\n",
        " else:\n",
        " click.echo('No tasks yet! Use ADD to add one.\\n')\n",
        "@todo.command()\n",
        "@click.pass_context\n",
        "@click.option('-add', '--add_task', prompt='Enter task to add')\n",
        "def add(ctx, add_task):\n",
        " '''Add a task'''\n",
        " if add_task:\n",
        " ctx.obj['TASKS'][ctx.obj['LATEST']] = add_task\n",
        " click.echo('Added task \"' + add_task + '\" with ID ' +\n",
        "str(ctx.obj['LATEST']))\n",
        "\n",
        "(separated by \" ``` \")\n",
        " curr_ind = [str(ctx.obj['LATEST'] + 1)]\n",
        " tasks = [str(i) + '```' + t for (i, t) in ctx.obj['TASKS'].items()]\n",
        " with open('./todo.txt', 'w') as f:\n",
        " f.writelines(['%s\\n' % en for en in curr_ind + tasks])\n",
        "@todo.command()\n",
        "@click.pass_context\n",
        "@click.option('-fin', '--fin_taskid', prompt='Enter ID of task to finish',\n",
        "type=int)\n",
        "def done(ctx, fin_taskid):\n",
        " '''Delete a task by ID'''\n",
        " if str(fin_taskid) in ctx.obj['TASKS'].keys():\n",
        " task = ctx.obj['TASKS'][str(fin_taskid)]\n",
        " del ctx.obj['TASKS'][str(fin_taskid)]\n",
        " click.echo('Finished and removed task \"' + task + '\" with id ' +\n",
        "str(fin_taskid))\n",
        "\n",
        "(separated by \" ``` \")\n",
        " if ctx.obj['TASKS']:\n",
        " curr_ind = [str(ctx.obj['LATEST'] + 1)]\n",
        " tasks = [str(i) + '```' + t for (i, t) in\n",
        "ctx.obj['TASKS'].items()]\n",
        " with open('./todo.txt', 'w') as f:\n",
        " f.writelines(['%s\\n' % en for en in curr_ind + tasks])\n",
        " else:\n",
        " with open('./todo.txt', 'w') as f:\n",
        " f.writelines([str(0) + '\\n'])\n",
        " else:\n",
        " click.echo('Error: no task with id ' + str(fin_taskid))\n",
        "if __name__ == '__main__':\n",
        "   todo()\n"
      ],
      "metadata": {
        "colab": {
          "base_uri": "https://localhost:8080/",
          "height": 130
        },
        "id": "1W_Er6LG1uBn",
        "outputId": "08e419b8-fcac-425d-eaa2-cc1a10acc391"
      },
      "execution_count": 17,
      "outputs": [
        {
          "output_type": "error",
          "ename": "IndentationError",
          "evalue": "ignored",
          "traceback": [
            "\u001b[0;36m  File \u001b[0;32m\"<ipython-input-17-734e85b670a7>\"\u001b[0;36m, line \u001b[0;32m8\u001b[0m\n\u001b[0;31m    with open('./todo.txt') as f:\u001b[0m\n\u001b[0m    ^\u001b[0m\n\u001b[0;31mIndentationError\u001b[0m\u001b[0;31m:\u001b[0m unexpected indent\n"
          ]
        }
      ]
    },
    {
      "cell_type": "markdown",
      "source": [
        "**20. Currency Converter**"
      ],
      "metadata": {
        "id": "SvT2q3gI7d2z"
      }
    },
    {
      "cell_type": "code",
      "source": [
        "import requests\n",
        "import json\n",
        "import sys\n",
        "from pprint import pprint"
      ],
      "metadata": {
        "id": "CE6BTj7S1t-5"
      },
      "execution_count": 18,
      "outputs": []
    },
    {
      "cell_type": "markdown",
      "source": [
        "****"
      ],
      "metadata": {
        "id": "ZUliJNzx7x_6"
      }
    }
  ],
  "metadata": {
    "colab": {
      "provenance": []
    },
    "kernelspec": {
      "display_name": "Python 3",
      "name": "python3"
    },
    "language_info": {
      "name": "python"
    }
  },
  "nbformat": 4,
  "nbformat_minor": 0
}