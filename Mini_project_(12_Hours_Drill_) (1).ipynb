{
  "nbformat": 4,
  "nbformat_minor": 0,
  "metadata": {
    "colab": {
      "provenance": []
    },
    "kernelspec": {
      "name": "python3",
      "display_name": "Python 3"
    },
    "language_info": {
      "name": "python"
    }
  },
  "cells": [
    {
      "cell_type": "markdown",
      "source": [
        "**Project Name => Bank Account Manager**"
      ],
      "metadata": {
        "id": "2A2AIe6jS1tl"
      }
    },
    {
      "cell_type": "markdown",
      "source": [
        "**Name => Ritik jwala**"
      ],
      "metadata": {
        "id": "qX4WQ1kSUnSJ"
      }
    },
    {
      "cell_type": "code",
      "source": [
        "from abc import ABC, abstractmethod\n",
        "\n",
        "class Account(ABC):\n",
        "    def __init__(self, balance):\n",
        "        self.balance = balance\n",
        "    \n",
        "    @abstractmethod\n",
        "    def deposit(self, amount):\n",
        "        pass\n",
        "    \n",
        "    @abstractmethod\n",
        "    def withdraw(self, amount):\n",
        "        pass\n",
        "    \n",
        "    def get_balance(self):\n",
        "        return self.balance\n",
        "\n",
        "class CheckingAccount(Account):\n",
        "    def __init__(self, balance):\n",
        "        super().__init__(balance)\n",
        "    \n",
        "    def deposit(self, amount):\n",
        "        self.balance += amount\n",
        "    \n",
        "    def withdraw(self, amount):\n",
        "        if amount > self.balance:\n",
        "            print(\"Insufficient funds.\")\n",
        "        else:\n",
        "            self.balance -= amount\n",
        "\n",
        "class SavingsAccount(Account):\n",
        "    def __init__(self, balance):\n",
        "        super().__init__(balance)\n",
        "    \n",
        "    def deposit(self, amount):\n",
        "        self.balance += amount\n",
        "    \n",
        "    def withdraw(self, amount):\n",
        "        if amount > self.balance:\n",
        "            print(\"Insufficient funds.\")\n",
        "        else:\n",
        "            self.balance -= amount\n",
        "\n",
        "class BusinessAccount(Account):\n",
        "    def __init__(self, balance):\n",
        "        super().__init__(balance)\n",
        "    \n",
        "    def deposit(self, amount):\n",
        "        self.balance += amount\n",
        "    \n",
        "    def withdraw(self, amount):\n",
        "        if amount > self.balance:\n",
        "            print(\"Insufficient funds.\")\n",
        "        else:\n",
        "            self.balance -= amount\n",
        "accounts = [CheckingAccount(1000), SavingsAccount(5000), BusinessAccount(20000)]\n",
        "\n",
        "while True:\n",
        "    print(\"\\nChoose an account:\")\n",
        "    for i, account in enumerate(accounts):\n",
        "        print(f\"{i+1}. Balance: {account.get_balance()}\")\n",
        "    choice = int(input(\"Enter account number: \")) - 1\n",
        "    \n",
        "    print(\"\\nChoose an action:\")\n",
        "    Print(\"0 Enter your ATM PIN\")\n",
        "    print(\"1. Deposit\")\n",
        "    print(\"2. Withdraw\")\n",
        "    print(\"3. Exit\")\n",
        "    action = int(input(\"Enter action number: \"))\n",
        "     Ch==0:\n",
        "    if action == 1:\n",
        "        amount = float(input(\"Enter deposit amount: \"))\n",
        "        accounts[choice].deposit(amount)\n",
        "    elif action == 2:\n",
        "        amount = float(input(\"Enter withdrawal amount: \"))\n",
        "        accounts[choice].withdraw(amount)\n",
        "    elif action == 3:\n",
        "        break\n",
        "    else:\n",
        "        print(\"Invalid action number. Please choose 1, 2, or 3.\")"
      ],
      "metadata": {
        "id": "nNcCFqVEUzoB",
        "colab": {
          "base_uri": "https://localhost:8080/"
        },
        "outputId": "46ea7084-c987-408b-cdd6-fa5644b56e9f"
      },
      "execution_count": null,
      "outputs": [
        {
          "name": "stdout",
          "output_type": "stream",
          "text": [
            "\n",
            "Choose an account:\n",
            "1. Balance: 1000\n",
            "2. Balance: 5000\n",
            "3. Balance: 20000\n",
            "Enter account number: 1\n",
            "\n",
            "Choose an action:\n",
            "1. Deposit\n",
            "2. Withdraw\n",
            "3. Exit\n",
            "Enter action number: 1\n",
            "Enter deposit amount: 5000\n",
            "\n",
            "Choose an account:\n",
            "1. Balance: 6000.0\n",
            "2. Balance: 5000\n",
            "3. Balance: 20000\n",
            "Enter account number: 2\n",
            "\n",
            "Choose an action:\n",
            "1. Deposit\n",
            "2. Withdraw\n",
            "3. Exit\n",
            "Enter action number: 2\n",
            "Enter withdrawal amount: 2000\n",
            "\n",
            "Choose an account:\n",
            "1. Balance: 6000.0\n",
            "2. Balance: 3000.0\n",
            "3. Balance: 20000\n",
            "Enter account number: 3\n",
            "\n",
            "Choose an action:\n",
            "1. Deposit\n",
            "2. Withdraw\n",
            "3. Exit\n",
            "Enter action number: 3\n"
          ]
        }
      ]
    },
    {
      "cell_type": "code",
      "source": [],
      "metadata": {
        "id": "v7TtSGLfUzgw"
      },
      "execution_count": null,
      "outputs": []
    },
    {
      "cell_type": "code",
      "source": [],
      "metadata": {
        "id": "VHT8cxYEUzdV"
      },
      "execution_count": null,
      "outputs": []
    },
    {
      "cell_type": "code",
      "source": [],
      "metadata": {
        "id": "5sIl1TDdUzad"
      },
      "execution_count": null,
      "outputs": []
    },
    {
      "cell_type": "code",
      "source": [],
      "metadata": {
        "id": "d_dgk0LXUzMt"
      },
      "execution_count": null,
      "outputs": []
    }
  ]
}