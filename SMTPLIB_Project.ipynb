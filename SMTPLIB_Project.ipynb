{
  "nbformat": 4,
  "nbformat_minor": 0,
  "metadata": {
    "colab": {
      "provenance": []
    },
    "kernelspec": {
      "name": "python3",
      "display_name": "Python 3"
    },
    "language_info": {
      "name": "python"
    }
  },
  "cells": [
    {
      "cell_type": "code",
      "execution_count": null,
      "metadata": {
        "colab": {
          "base_uri": "https://localhost:8080/",
          "height": 356
        },
        "id": "4lbGet_7sDm2",
        "outputId": "c4efd696-d4d2-4926-8300-091ac812b64c"
      },
      "outputs": [
        {
          "output_type": "error",
          "ename": "TclError",
          "evalue": "ignored",
          "traceback": [
            "\u001b[0;31m---------------------------------------------------------------------------\u001b[0m",
            "\u001b[0;31mTclError\u001b[0m                                  Traceback (most recent call last)",
            "\u001b[0;32m<ipython-input-2-fb55c5a85151>\u001b[0m in \u001b[0;36m<cell line: 32>\u001b[0;34m()\u001b[0m\n\u001b[1;32m     30\u001b[0m \u001b[0;34m\u001b[0m\u001b[0m\n\u001b[1;32m     31\u001b[0m \u001b[0;34m\u001b[0m\u001b[0m\n\u001b[0;32m---> 32\u001b[0;31m \u001b[0mgui\u001b[0m \u001b[0;34m=\u001b[0m \u001b[0mTk\u001b[0m\u001b[0;34m(\u001b[0m\u001b[0;34m)\u001b[0m\u001b[0;34m\u001b[0m\u001b[0;34m\u001b[0m\u001b[0m\n\u001b[0m\u001b[1;32m     33\u001b[0m \u001b[0;34m\u001b[0m\u001b[0m\n\u001b[1;32m     34\u001b[0m \u001b[0mgui\u001b[0m\u001b[0;34m.\u001b[0m\u001b[0mgeometry\u001b[0m\u001b[0;34m(\u001b[0m\u001b[0;34m\"500x500\"\u001b[0m\u001b[0;34m)\u001b[0m\u001b[0;34m\u001b[0m\u001b[0;34m\u001b[0m\u001b[0m\n",
            "\u001b[0;32m/usr/lib/python3.10/tkinter/__init__.py\u001b[0m in \u001b[0;36m__init__\u001b[0;34m(self, screenName, baseName, className, useTk, sync, use)\u001b[0m\n\u001b[1;32m   2300\u001b[0m                 \u001b[0mbaseName\u001b[0m \u001b[0;34m=\u001b[0m \u001b[0mbaseName\u001b[0m \u001b[0;34m+\u001b[0m \u001b[0mext\u001b[0m\u001b[0;34m\u001b[0m\u001b[0;34m\u001b[0m\u001b[0m\n\u001b[1;32m   2301\u001b[0m         \u001b[0minteractive\u001b[0m \u001b[0;34m=\u001b[0m \u001b[0;32mFalse\u001b[0m\u001b[0;34m\u001b[0m\u001b[0;34m\u001b[0m\u001b[0m\n\u001b[0;32m-> 2302\u001b[0;31m         \u001b[0mself\u001b[0m\u001b[0;34m.\u001b[0m\u001b[0mtk\u001b[0m \u001b[0;34m=\u001b[0m \u001b[0m_tkinter\u001b[0m\u001b[0;34m.\u001b[0m\u001b[0mcreate\u001b[0m\u001b[0;34m(\u001b[0m\u001b[0mscreenName\u001b[0m\u001b[0;34m,\u001b[0m \u001b[0mbaseName\u001b[0m\u001b[0;34m,\u001b[0m \u001b[0mclassName\u001b[0m\u001b[0;34m,\u001b[0m \u001b[0minteractive\u001b[0m\u001b[0;34m,\u001b[0m \u001b[0mwantobjects\u001b[0m\u001b[0;34m,\u001b[0m \u001b[0museTk\u001b[0m\u001b[0;34m,\u001b[0m \u001b[0msync\u001b[0m\u001b[0;34m,\u001b[0m \u001b[0muse\u001b[0m\u001b[0;34m)\u001b[0m\u001b[0;34m\u001b[0m\u001b[0;34m\u001b[0m\u001b[0m\n\u001b[0m\u001b[1;32m   2303\u001b[0m         \u001b[0;32mif\u001b[0m \u001b[0museTk\u001b[0m\u001b[0;34m:\u001b[0m\u001b[0;34m\u001b[0m\u001b[0;34m\u001b[0m\u001b[0m\n\u001b[1;32m   2304\u001b[0m             \u001b[0mself\u001b[0m\u001b[0;34m.\u001b[0m\u001b[0m_loadtk\u001b[0m\u001b[0;34m(\u001b[0m\u001b[0;34m)\u001b[0m\u001b[0;34m\u001b[0m\u001b[0;34m\u001b[0m\u001b[0m\n",
            "\u001b[0;31mTclError\u001b[0m: no display name and no $DISPLAY environment variable"
          ]
        }
      ],
      "source": [
        "import smtplib\n",
        "from tkinter import *\n",
        "\n",
        "\n",
        "def send_message():\n",
        "    address_info = address.get()\n",
        "\n",
        "    email_body_info = email_body.get()\n",
        "\n",
        "    sender_info = sender_address.get()\n",
        "\n",
        "    password_info = password.get()\n",
        "\n",
        "    server = smtplib.SMTP('smtp.gmail.com', 587)\n",
        "\n",
        "    server.starttls()\n",
        "\n",
        "    server.login(sender_info, password_info)\n",
        "\n",
        "    print(\"Login successful\")\n",
        "\n",
        "    server.sendmail(sender_info, address_info, email_body_info)\n",
        "\n",
        "    print(\"Message sent\")\n",
        "\n",
        "    address_entry.delete(0, END)\n",
        "    email_body_entry.delete(0, END)\n",
        "    password_entry.delete(0, END)\n",
        "    sender_address_entry.delete(0, END)\n",
        "\n",
        "\n",
        "gui = Tk()\n",
        "\n",
        "gui.geometry(\"500x500\")\n",
        "\n",
        "gui.title(\"Email Sender App\")\n",
        "\n",
        "heading = Label(text=\"Email Sender App\", bg=\"yellow\", fg=\"black\", font=\"10\", width=\"500\", height=\"3\")\n",
        "\n",
        "heading.pack()\n",
        "gui.configure(background=\"light blue\")\n",
        "\n",
        "sender_address_field = Label(text=\"Sender's Email :\")\n",
        "sender_address_field.place(x=15, y=70)\n",
        "\n",
        "sender_address = StringVar()\n",
        "sender_address_entry = Entry(textvariable=sender_address, width=\"30\")\n",
        "sender_address_entry.place(x=15, y=100)\n",
        "\n",
        "sender_password_field = Label(text=\"Sender's Password :\")\n",
        "sender_password_field.place(x=15, y=140)\n",
        "\n",
        "password = StringVar()\n",
        "password_entry = Entry(textvariable=password, width=\"30\")\n",
        "password_entry.place(x=15, y=170)\n",
        "\n",
        "address_field = Label(text=\"Recipient Email :\")\n",
        "address_field.place(x=15, y=210)\n",
        "\n",
        "address = StringVar()\n",
        "address_entry = Entry(textvariable=address, width=\"30\")\n",
        "address_entry.place(x=15, y=240)\n",
        "\n",
        "email_body_field = Label(text=\"Message :\")\n",
        "email_body_field.place(x=15, y=280)\n",
        "\n",
        "email_body = StringVar()\n",
        "email_body_entry = Entry(textvariable=email_body, width=\"30\")\n",
        "email_body_entry.place(x=15, y=320, height=\"30\")\n",
        "\n",
        "button = Button(gui, text=\"Send Message\", command=send_message, width=\"30\", height=\"2\", bg=\"grey\")\n",
        "\n",
        "button.place(x=15, y=400)\n",
        "\n",
        "mainloop()"
      ]
    },
    {
      "cell_type": "code",
      "source": [],
      "metadata": {
        "id": "WRr74qSWsTgJ"
      },
      "execution_count": null,
      "outputs": []
    },
    {
      "cell_type": "code",
      "source": [],
      "metadata": {
        "id": "9d_EwBdXsTjy"
      },
      "execution_count": null,
      "outputs": []
    },
    {
      "cell_type": "code",
      "source": [],
      "metadata": {
        "id": "bvtiep1UsTnP"
      },
      "execution_count": null,
      "outputs": []
    }
  ]
}