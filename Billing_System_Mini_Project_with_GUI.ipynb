{
  "nbformat": 4,
  "nbformat_minor": 0,
  "metadata": {
    "colab": {
      "provenance": []
    },
    "kernelspec": {
      "name": "python3",
      "display_name": "Python 3"
    },
    "language_info": {
      "name": "python"
    }
  },
  "cells": [
    {
      "cell_type": "code",
      "execution_count": null,
      "metadata": {
        "id": "RMpqJ8i-LXCJ"
      },
      "outputs": [],
      "source": [
        "from tkinter import *\n",
        "\n",
        "window=Tk()\n",
        "window.geometry(\"700x500\")\n",
        "\n",
        "def calculate():\n",
        "    aloo_paratha=e1.get()\n",
        "    samosa=e2.get()\n",
        "    Biryani=e3.get()\n",
        "    tea=e4.get()\n",
        "    print(type(tea))\n",
        "    total=(int(aloo_paratha)*30)+(int(samosa)*10)+(int(Biryani)*30)+(int(tea)*10)\n",
        "    print(total)\n",
        "\n",
        "label6=Label(window,text=\"Ritik Restaurants\",font=\"times 30 bold\")\n",
        "label6.place(x=350,y=20,anchor=\"center\")\n",
        "\n",
        "label1=Label(window,text=\"MENU\",font=\"times 28 bold\")\n",
        "label1.place(x=550,y=70)\n",
        "\n",
        "label2=Label(window,text=\"aloo paratha      Rs 20\",font=\"times 18 \")\n",
        "label2.place(x=450,y=120)\n",
        "\n",
        "label3=Label(window,text=\"samosa              Rs 10\",font=\"times 18 \")\n",
        "label3.place(x=450,y=150)\n",
        "\n",
        "label2=Label(window,text=\"Biryani             Rs 30\",font=\"times 18 \")\n",
        "label2.place(x=450,y=180)\n",
        "\n",
        "label3=Label(window,text=\"tea                   Rs 10\",font=\"times 18 \")\n",
        "label3.place(x=450,y=210)\n",
        "\n",
        "label7=Label(window,text=\"Select the items\",font=\"times 20 bold\")\n",
        "label7.place(x=70,y=70)\n",
        "\n",
        "\n",
        "\n",
        "label8=Label(window,text=\"aloo paratha\",font=\"times 18\")\n",
        "label8.place(x=20,y=120)\n",
        "\n",
        "e1=Entry(window)\n",
        "e1.place(x=20,y=150)\n",
        "\n",
        "label9=Label(window,text=\"samosa\",font=\"times 18\")\n",
        "label9.place(x=20,y=120)\n",
        "\n",
        "e2=Entry(window)\n",
        "e2.place(x=20,y=150)\n",
        "\n",
        "label10=Label(window,text=\"Biryani\",font=\"times 18\")\n",
        "label10.place(x=20,y=200)\n",
        "\n",
        "e3=Entry(window)\n",
        "e3.place(x=20,y=230)\n",
        "\n",
        "label11=Label(window,text=\"tea\",font=\"times 18\")\n",
        "label11.place(x=250,y=200)\n",
        "\n",
        "e4=Entry(window)\n",
        "e4.place(x=250,y=230)\n",
        "\n",
        "b2=Button(window,text='Bill',width=20,command=calculate)\n",
        "b2.place(x=100,y=300)\n",
        "\n",
        "window.mainloop()"
      ]
    }
  ]
}