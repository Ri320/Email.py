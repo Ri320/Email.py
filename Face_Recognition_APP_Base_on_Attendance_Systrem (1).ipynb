{
  "nbformat": 4,
  "nbformat_minor": 0,
  "metadata": {
    "colab": {
      "provenance": []
    },
    "kernelspec": {
      "name": "python3",
      "display_name": "Python 3"
    },
    "language_info": {
      "name": "python"
    }
  },
  "cells": [
    {
      "cell_type": "code",
      "source": [
        "pip install face_recognition"
      ],
      "metadata": {
        "colab": {
          "base_uri": "https://localhost:8080/"
        },
        "id": "GQlSctnkPHwh",
        "outputId": "cbe7b877-4263-4bce-88bd-3cf1bbb7a0bc"
      },
      "execution_count": 6,
      "outputs": [
        {
          "output_type": "stream",
          "name": "stdout",
          "text": [
            "Looking in indexes: https://pypi.org/simple, https://us-python.pkg.dev/colab-wheels/public/simple/\n",
            "Collecting face_recognition\n",
            "  Downloading face_recognition-1.3.0-py2.py3-none-any.whl (15 kB)\n",
            "Collecting face-recognition-models>=0.3.0 (from face_recognition)\n",
            "  Downloading face_recognition_models-0.3.0.tar.gz (100.1 MB)\n",
            "\u001b[2K     \u001b[90m━━━━━━━━━━━━━━━━━━━━━━━━━━━━━━━━━━━━━━━\u001b[0m \u001b[32m100.1/100.1 MB\u001b[0m \u001b[31m7.2 MB/s\u001b[0m eta \u001b[36m0:00:00\u001b[0m\n",
            "\u001b[?25h  Preparing metadata (setup.py) ... \u001b[?25l\u001b[?25hdone\n",
            "Requirement already satisfied: Click>=6.0 in /usr/local/lib/python3.10/dist-packages (from face_recognition) (8.1.3)\n",
            "Requirement already satisfied: dlib>=19.7 in /usr/local/lib/python3.10/dist-packages (from face_recognition) (19.24.1)\n",
            "Requirement already satisfied: numpy in /usr/local/lib/python3.10/dist-packages (from face_recognition) (1.22.4)\n",
            "Requirement already satisfied: Pillow in /usr/local/lib/python3.10/dist-packages (from face_recognition) (8.4.0)\n",
            "Building wheels for collected packages: face-recognition-models\n",
            "  Building wheel for face-recognition-models (setup.py) ... \u001b[?25l\u001b[?25hdone\n",
            "  Created wheel for face-recognition-models: filename=face_recognition_models-0.3.0-py2.py3-none-any.whl size=100566173 sha256=b90fe5df177ed6e2673d21d4a794792bcb14d96cd30069b5d501def542d96193\n",
            "  Stored in directory: /root/.cache/pip/wheels/7a/eb/cf/e9eced74122b679557f597bb7c8e4c739cfcac526db1fd523d\n",
            "Successfully built face-recognition-models\n",
            "Installing collected packages: face-recognition-models, face_recognition\n",
            "Successfully installed face-recognition-models-0.3.0 face_recognition-1.3.0\n"
          ]
        }
      ]
    },
    {
      "cell_type": "code",
      "execution_count": 8,
      "metadata": {
        "colab": {
          "base_uri": "https://localhost:8080/",
          "height": 130
        },
        "id": "rE0GeWJeOFTH",
        "outputId": "aa091372-beb1-4489-cdd5-6af214244d89"
      },
      "outputs": [
        {
          "output_type": "error",
          "ename": "IndentationError",
          "evalue": "ignored",
          "traceback": [
            "\u001b[0;36m  File \u001b[0;32m\"<tokenize>\"\u001b[0;36m, line \u001b[0;32m74\u001b[0m\n\u001b[0;31m    cv2.imshow(\"attendence system\",frame)\u001b[0m\n\u001b[0m    ^\u001b[0m\n\u001b[0;31mIndentationError\u001b[0m\u001b[0;31m:\u001b[0m unindent does not match any outer indentation level\n"
          ]
        }
      ],
      "source": [
        "import face_recognition\n",
        "import cv2\n",
        "import numpy as np\n",
        "import os\n",
        "import csv\n",
        "from datetime import datetime\n",
        "\n",
        "video_capture = cv2.VideoCapture(0)\n",
        "\n",
        "Sejal_image = face_recognition.load_image_file(\"photos/Sejal.jpg\")\n",
        "Sejal_encoding = face_recognition.face_encoding(Sejal_image)[0]\n",
        "\n",
        "Rohit_image = face_recognition.load_image_file(\"photos/Rohit.jpg\")\n",
        "Rohit_encoding = face_recognition.face_encoding(Rohit_image)[0]\n",
        "\n",
        "Jai_image = face_recognition.load_image_file(\"photos/Jai.jpg\")\n",
        "Jai_encoding = face_recognition.face_encoding(Jai_image)[0]\n",
        "\n",
        "Sachin_image = face_recognition.load_image_file(\"photos/Sachin.jpg\")\n",
        "Sachin_encoding = face_recognition.face_encoding(Sachin_image)[0]\n",
        "\n",
        "known_face_encoding = [\n",
        "Sejal_encoding,\n",
        "Rohit_encoding,\n",
        "Jai_encoding,\n",
        "Sachin_encoding\n",
        "]\n",
        "\n",
        "known_faces_names = [\n",
        "\"Sejal\",\n",
        "\"Rohit\",\n",
        "\"Jai\",\n",
        "\"Sachin\"\n",
        "]\n",
        "\n",
        "students = knwon_faces_names,copy()\n",
        "\n",
        "face_locations = []\n",
        "face_encoding = []\n",
        "face_names = []\n",
        "s=True\n",
        "\n",
        "\n",
        "now = datetime.now()\n",
        "current_date = now.strftime(\"%Y-%m-%d\")\n",
        "\n",
        "\n",
        "f =open(current_date+'.csv','w+',newline = '')\n",
        "lnwriter = csv.writer(f)\n",
        "\n",
        "while True:\n",
        "     frame = video_capture.read()\n",
        "     small_frame = cv2.resize(frame,(0,0),fx=0.25,fy=0.25)\n",
        "     rgb_small_frame = small_frame[:,:,::-1]\n",
        "     if s:\n",
        "        face_locations = face_recognition.face_locations(rgb_small_frame)\n",
        "        face_encodings = face_recognition.face_encoding(rgb_small_frame,face_locations)\n",
        "        face_names = []\n",
        "        for face_encoding in face_encodings:\n",
        "        matches = face_recognition.compare_faces(known_face_encoding,face_encoding)\n",
        "        name=\"\"\n",
        "        face_distance = face_recongnition.face_distance(known_face_encoding,face_encoding)\n",
        "        best_match_index = np.argmin(face_distance)\n",
        "        if matches[best_match_index]:\n",
        "            name = known_faces_names[best_match_index]\n",
        "\n",
        "        face_names.append(name)\n",
        "        if name in known_faces_names:\n",
        "            if name in students:\n",
        "                students.remove(name)\n",
        "                print(students)\n",
        "                current_time = now.strftime(\"%H-%M-%S\")\n",
        "                lnwriter.writerow([name,current_time])\n",
        "    cv2.imshow(\"attendence system\",frame)\n",
        "    if cv2.waitKey(1) & 0xFF == ord('q'):\n",
        "        break\n",
        "\n",
        " video_capture.release()\n",
        " cv2.destroyAllwindows()\n",
        " f.close()"
      ]
    }
  ]
}