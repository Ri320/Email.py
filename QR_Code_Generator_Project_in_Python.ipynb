{
  "nbformat": 4,
  "nbformat_minor": 0,
  "metadata": {
    "colab": {
      "provenance": []
    },
    "kernelspec": {
      "name": "python3",
      "display_name": "Python 3"
    },
    "language_info": {
      "name": "python"
    }
  },
  "cells": [
    {
      "cell_type": "code",
      "execution_count": null,
      "metadata": {
        "id": "975OWotC6coT"
      },
      "outputs": [],
      "source": [
        "import qrcode as qr\n",
        "img= qr.make(\"https://www.linkedin.com/in/ritik-jwala-593b15251/?originalSubdomain=in\")\n",
        "img.save(\"mylinkdinaccount_id.png\")\n"
      ]
    },
    {
      "cell_type": "markdown",
      "source": [
        "**Any Correction  and QR Code color Change **"
      ],
      "metadata": {
        "id": "VNedRfje6v2S"
      }
    },
    {
      "cell_type": "code",
      "source": [
        "import qrcode\n",
        "from PIL import Image\n",
        "\n",
        "qr=qrcode.QRCode(version=1,\n",
        "                 error_correction=qrcode.constants.ERROR_CORRECT_H,\n",
        "                 box_size=10,border=4,)\n",
        "qr.add_data(\"https://www.linkedin.com/in/ritik-jwala-593b15251/?originalSubdomain=in\")\n",
        "qr.make(fit=True)\n",
        "img=qr.make_image(fill_color=\"red\",black_color=\"blue\")\n",
        "img.save(\"ritik_linkdin.png\")"
      ],
      "metadata": {
        "id": "me5KxdSm6u_s"
      },
      "execution_count": null,
      "outputs": []
    }
  ]
}