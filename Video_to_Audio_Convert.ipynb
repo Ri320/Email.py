{
  "nbformat": 4,
  "nbformat_minor": 0,
  "metadata": {
    "colab": {
      "provenance": []
    },
    "kernelspec": {
      "name": "python3",
      "display_name": "Python 3"
    },
    "language_info": {
      "name": "python"
    }
  },
  "cells": [
    {
      "cell_type": "code",
      "source": [
        "import moviepy.editor\n",
        "from tkinter.filedialog import *\n",
        "\n",
        "vid = askopenfilename()\n",
        "video = moviepy.editor.VideoFileClip(\"vid\")\n",
        "\n",
        "aud = video.audio\n",
        "aud.write_audiofile(\"demo.mp3\")\n",
        "\n",
        "print(\"---End----\")"
      ],
      "metadata": {
        "id": "S7Qp4LA7Ms_H"
      },
      "execution_count": null,
      "outputs": []
    },
    {
      "cell_type": "code",
      "source": [],
      "metadata": {
        "id": "YwbSri0vMsyp"
      },
      "execution_count": null,
      "outputs": []
    },
    {
      "cell_type": "code",
      "execution_count": null,
      "metadata": {
        "id": "3pqlbbhMK4UX"
      },
      "outputs": [],
      "source": []
    }
  ]
}