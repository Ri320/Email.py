{
  "nbformat": 4,
  "nbformat_minor": 0,
  "metadata": {
    "colab": {
      "provenance": []
    },
    "kernelspec": {
      "name": "python3",
      "display_name": "Python 3"
    },
    "language_info": {
      "name": "python"
    }
  },
  "cells": [
    {
      "cell_type": "code",
      "execution_count": null,
      "metadata": {
        "id": "q4LIB_81cTBA"
      },
      "outputs": [],
      "source": [
        "#SudentId      Name      father name     class     rollnumber\n",
        "#1001         rahul       amit              X         25\n",
        "#1002         rishabh     sumit             X         26\n",
        "#1003         PIYUS       mohan             X         27\n",
        " \n",
        "# stdata['StudentId'][i]==stid\n",
        "\n",
        "# how to update a particular record create a module for it.\n",
        "# delete a record by using student id\n",
        "# create a dict=>store in json=>load into json as dict=>print the record\n",
        "\n",
        "\n",
        "#[1.] Add 'N' New Records\n",
        "#[2.] Modify a Record\n",
        "#[3.] Delete a Record\n",
        "#[4.] Search a Record by Student Id\n",
        "#[5.] Display All Records\n",
        "#[6.] Clear All Records\n",
        "#[E.] Exit"
      ]
    },
    {
      "cell_type": "code",
      "source": [
        "stdata=[]\n",
        "ch=0\n",
        "n=int(input(\"Enter the record range: \"))\n",
        "while ch!='n'and 'N':\n",
        "  stdata_row={}\n",
        "  stdata_row['Ticket id']=int(input(\"Enter Ticket id : \"))\n",
        "  stdata_row['Name']=input(\"Enter  Name : \")\n",
        "  stdata_row['movie Name']=input(\"Enter movie Name : \")\n",
        "  stdata_row['show time']=input(\"Enter show time : \")\n",
        "  stdata_row['Ticket price']=input(\"Enter Ticket price : \")\n",
        "  stdata_row['Booking time']=input(\"Enter Booking time : \")\n",
        "  stdata.append(stdata_row)\n",
        "  ch=input(\"Enter Another Record[Y/N]   :   \")\n"
      ],
      "metadata": {
        "colab": {
          "base_uri": "https://localhost:8080/"
        },
        "id": "_wjmB04hcUIl",
        "outputId": "9d4c9bfd-ef60-411e-d5d5-3b13261db115"
      },
      "execution_count": null,
      "outputs": [
        {
          "name": "stdout",
          "output_type": "stream",
          "text": [
            "Enter the record range: 1\n",
            "Enter Ticket id : 12465\n",
            "Enter  Name : ritik jwala\n",
            "Enter movie Name : Avtar\n",
            "Enter show time : 9.00 PM\n",
            "Enter Ticket price : 230\n",
            "Enter Booking time : 12.00 PM\n",
            "Enter Another Record[Y/N]   :   n\n"
          ]
        }
      ]
    },
    {
      "cell_type": "code",
      "source": [
        "# ticket id  name   movie name    show time      ticket price   booking time"
      ],
      "metadata": {
        "id": "-PrjNz9mcUOg"
      },
      "execution_count": null,
      "outputs": []
    },
    {
      "cell_type": "code",
      "source": [
        "from IPython.core.display import json\n",
        "f=open('/content/json_file.json','r')\n",
        "json.dump(data,f)\n",
        "f.close()"
      ],
      "metadata": {
        "colab": {
          "base_uri": "https://localhost:8080/",
          "height": 217
        },
        "id": "TcQoKX0LcURf",
        "outputId": "f5f0a4b3-ccdb-49a5-e6f6-a29769c20203"
      },
      "execution_count": null,
      "outputs": [
        {
          "output_type": "error",
          "ename": "NameError",
          "evalue": "ignored",
          "traceback": [
            "\u001b[0;31m---------------------------------------------------------------------------\u001b[0m",
            "\u001b[0;31mNameError\u001b[0m                                 Traceback (most recent call last)",
            "\u001b[0;32m<ipython-input-9-e9f155300347>\u001b[0m in \u001b[0;36m<module>\u001b[0;34m\u001b[0m\n\u001b[1;32m      1\u001b[0m \u001b[0;32mfrom\u001b[0m \u001b[0mIPython\u001b[0m\u001b[0;34m.\u001b[0m\u001b[0mcore\u001b[0m\u001b[0;34m.\u001b[0m\u001b[0mdisplay\u001b[0m \u001b[0;32mimport\u001b[0m \u001b[0mjson\u001b[0m\u001b[0;34m\u001b[0m\u001b[0;34m\u001b[0m\u001b[0m\n\u001b[1;32m      2\u001b[0m \u001b[0mf\u001b[0m\u001b[0;34m=\u001b[0m\u001b[0mopen\u001b[0m\u001b[0;34m(\u001b[0m\u001b[0;34m'/content/json_file.json'\u001b[0m\u001b[0;34m,\u001b[0m\u001b[0;34m'r'\u001b[0m\u001b[0;34m)\u001b[0m\u001b[0;34m\u001b[0m\u001b[0;34m\u001b[0m\u001b[0m\n\u001b[0;32m----> 3\u001b[0;31m \u001b[0mjson\u001b[0m\u001b[0;34m.\u001b[0m\u001b[0mdump\u001b[0m\u001b[0;34m(\u001b[0m\u001b[0mdata\u001b[0m\u001b[0;34m,\u001b[0m\u001b[0mf\u001b[0m\u001b[0;34m)\u001b[0m\u001b[0;34m\u001b[0m\u001b[0;34m\u001b[0m\u001b[0m\n\u001b[0m\u001b[1;32m      4\u001b[0m \u001b[0mf\u001b[0m\u001b[0;34m.\u001b[0m\u001b[0mclose\u001b[0m\u001b[0;34m(\u001b[0m\u001b[0;34m)\u001b[0m\u001b[0;34m\u001b[0m\u001b[0;34m\u001b[0m\u001b[0m\n",
            "\u001b[0;31mNameError\u001b[0m: name 'data' is not defined"
          ]
        }
      ]
    },
    {
      "cell_type": "code",
      "source": [
        "for i in stdata:\n",
        " print(i)"
      ],
      "metadata": {
        "colab": {
          "base_uri": "https://localhost:8080/"
        },
        "id": "T5A1Y2p9cUVB",
        "outputId": "c4208c3a-0903-4cf6-abff-4be3c6813d86"
      },
      "execution_count": null,
      "outputs": [
        {
          "output_type": "stream",
          "name": "stdout",
          "text": [
            "{'Ticket id': 12465, 'Name': 'ritik jwala', 'movie Name': 'Avtar', 'show time': '9.00 PM', 'Ticket price': '230', 'Booking time': '12.00 PM'}\n"
          ]
        }
      ]
    },
    {
      "cell_type": "code",
      "source": [
        "global f\n",
        "f = 0\n",
        "\n",
        "#this t_movie function is used to select movie name\n",
        "def t_movie():\n",
        "\tglobal f\n",
        "\tf = f+1\n",
        "\tprint(\"which movie do you want to watch?\")\n",
        "\tprint(\"1,movie 1 \")\n",
        "\tprint(\"2,movie 2 \")\n",
        "\tprint(\"3,movie 3\")\n",
        "\tprint(\"4,back\")\n",
        "\tmovie = int(input(\"choose your movie: \"))\n",
        "\tif movie == 4:\n",
        "\t# in this it goes to center function and from center it goes to movie function and it comes back here and then go to theater\n",
        "  center()\n",
        "\ttheater()\n",
        "\treturn 0\n",
        "\tif f == 1:\n",
        "\ttheater()\n",
        "\n",
        "# this theater function used to select screen\n",
        "def theater():\n",
        "\tprint(\"which screen do you want to watch movie: \")\n",
        "\tprint(\"1,SCREEN 1\")\n",
        "\tprint(\"2,SCREEN 2\")\n",
        "\tprint(\"3,SCREEN 3\")\n",
        "\ta = int(input(\"choose your screen: \"))\n",
        "\tticket = int(input(\"number of ticket do you want?: \"))\n",
        "\ttiming(a)\n",
        "\n",
        "# this timing function used to select timing for movie\n",
        "def timing(a):\n",
        "\ttime1 = {\n",
        "\t\t\"1\": \"10.00-1.00\",\n",
        "\t\t\"2\": \"1.10-4.10\",\n",
        "\t\t\"3\": \"4.20-7.20\",\n",
        "\t\t\"4\": \"7.30-10.30\"\n",
        "\t}\n",
        "\ttime2 = {\n",
        "\t\t\"1\": \"10.15-1.15\",\n",
        "\t\t\"2\": \"1.25-4.25\",\n",
        "\t\t\"3\": \"4.35-7.35\",\n",
        "\t\t\"4\": \"7.45-10.45\"\n",
        "\t}\n",
        "\ttime3 = {\n",
        "\t\t\"1\": \"10.30-1.30\",\n",
        "\t\t\"2\": \"1.40-4.40\",\n",
        "\t\t\"3\": \"4.50-7.50\",\n",
        "\t\t\"4\": \"8.00-10.45\"\n",
        "\t}\n",
        "\tif a == 1:\n",
        "\t\tprint(\"choose your time:\")\n",
        "\t\tprint(time1)\n",
        "\t\tt = input(\"select your time:\")\n",
        "\t\tx = time1[t]\n",
        "\t\tprint(\"successful!, enjoy movie at \"+x)\n",
        "\telif a == 2:\n",
        "\t\tprint(\"choose your time:\")\n",
        "\t\tprint(time2)\n",
        "\t\tt = input(\"select your time:\")\n",
        "\t\tx = time2[t]\n",
        "\t\tprint(\"successful!, enjoy movie at \"+x)\n",
        "\telif a == 3:\n",
        "\t\tprint(\"choose your time:\")\n",
        "\t\tprint(time3)\n",
        "\t\tt = input(\"select your time:\")\n",
        "\t\tx = time3[t]\n",
        "\t\tprint(\"successful!, enjoy movie at \"+x)\n",
        "\treturn 0\n",
        "\n",
        "\n",
        "def movie(theater):\n",
        "\tif theater == 1:\n",
        "\t\tt_movie()\n",
        "\telif theater == 2:\n",
        "\t\tt_movie()\n",
        "\telif theater == 3:\n",
        "\t\tt_movie()\n",
        "\telif theater == 4:\n",
        "\t\tcity()\n",
        "\telse:\n",
        "\t\tprint(\"wrong choice\")\n",
        "\n",
        "\n",
        "def center():\n",
        "\tprint(\"which theater do you wish to see movie? \")\n",
        "\tprint(\"1,Inox\")\n",
        "\tprint(\"2,Icon\")\n",
        "\tprint(\"3,pvp\")\n",
        "\tprint(\"4,back\")\n",
        "\ta = int(input(\"choose your option: \"))\n",
        "\tmovie(a)\n",
        "\treturn 0\n",
        "\n",
        "# this function is used to select city\n",
        "def city():\n",
        "\tprint(\"Hi welcome to movie ticket booking: \")\n",
        "\tprint(\"where you want to watch movie?:\")\n",
        "\tprint(\"1,city 1\")\n",
        "\tprint(\"2,city 2 \")\n",
        "\tprint(\"3,city 3 \")\n",
        "\tplace = int(input(\"choose your option: \"))\n",
        "\tif place == 1:\n",
        "\tcenter()\n",
        "\telif place == 2:\n",
        "\tcenter()\n",
        "\telif place == 3:\n",
        "\tcenter()\n",
        "\telse:\n",
        "\tprint(\"wrong choice\")\n",
        "\n",
        "\n",
        "city() # it calls the function city\n"
      ],
      "metadata": {
        "colab": {
          "base_uri": "https://localhost:8080/",
          "height": 130
        },
        "id": "ewlm-wseihiC",
        "outputId": "49c1e7c5-b5c0-4e2b-d408-a8b6e622797f"
      },
      "execution_count": null,
      "outputs": [
        {
          "output_type": "error",
          "ename": "IndentationError",
          "evalue": "ignored",
          "traceback": [
            "\u001b[0;36m  File \u001b[0;32m\"<ipython-input-12-1f967b857101>\"\u001b[0;36m, line \u001b[0;32m16\u001b[0m\n\u001b[0;31m    center()\u001b[0m\n\u001b[0m    ^\u001b[0m\n\u001b[0;31mIndentationError\u001b[0m\u001b[0;31m:\u001b[0m expected an indented block\n"
          ]
        }
      ]
    },
    {
      "cell_type": "code",
      "source": [],
      "metadata": {
        "id": "8TfcZlg8ihk2"
      },
      "execution_count": null,
      "outputs": []
    },
    {
      "cell_type": "code",
      "source": [],
      "metadata": {
        "id": "GAfjHkLfihoP"
      },
      "execution_count": null,
      "outputs": []
    }
  ]
}